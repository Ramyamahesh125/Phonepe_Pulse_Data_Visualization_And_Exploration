{
 "cells": [
  {
   "cell_type": "code",
   "execution_count": 1,
   "id": "5e9039ed-f77d-42ad-9449-4267cb0b5c24",
   "metadata": {},
   "outputs": [],
   "source": [
    "import pandas as pd\n",
    "import mysql.connector\n",
    "import plotly.express as px\n",
    "import requests\n",
    "import json"
   ]
  },
  {
   "cell_type": "code",
   "execution_count": 2,
   "id": "43104cb1-4d8e-455f-a62a-68a24b177659",
   "metadata": {},
   "outputs": [],
   "source": [
    "# Connection With MySQL :\n",
    "\n",
    "mydb = mysql.connector.connect(host = \"127.0.0.1\",\n",
    "                               port = \"3306\",\n",
    "                               user = \"root\",\n",
    "                               password = \"Ramya$125\",\n",
    "                               database = \"Phonepe\")\n",
    "cursor = mydb.cursor(buffered=True)\n",
    "\n",
    "# Extracting DataFrames From MySQL:\n",
    "\n",
    "# Aggregated Insurance :\n",
    "\n",
    "cursor.execute(\" SELECT * FROM aggregated_insurance\")\n",
    "mydb.commit()\n",
    "table = cursor.fetchall()\n",
    "\n",
    "Agg_Insur = pd.DataFrame(table ,columns = ['States','Years','Quarters','Transaction_Type','Transaction_Count','Transaction_Amount'])\n",
    "\n",
    "# Aggregated Transaction :\n",
    "\n",
    "cursor.execute(\" SELECT * FROM aggregated_transaction\")\n",
    "mydb.commit()\n",
    "table = cursor.fetchall()\n",
    "\n",
    "Agg_Tran = pd.DataFrame(table ,columns = ['States','Years','Quarters','Transaction_Type','Transaction_Count','Transaction_Amount'])\n",
    "\n",
    "# Aggregated User :\n",
    "\n",
    "cursor.execute(\" SELECT * FROM aggregated_user\")\n",
    "mydb.commit()\n",
    "table = cursor.fetchall()\n",
    "\n",
    "Agg_User = pd.DataFrame(table ,columns = ['States','Years','Quarters','Brands','Transaction_Count','Percentage'])\n",
    "\n",
    "# Map Insurance :\n",
    "\n",
    "cursor.execute(\" SELECT * FROM map_insurance\")\n",
    "mydb.commit()\n",
    "table = cursor.fetchall()\n",
    "\n",
    "Map_Insur = pd.DataFrame(table ,columns = ['States','Years','Quarters','Districts','Transaction_Count','Transaction_Amount'])\n",
    "\n",
    "# Map Transaction :\n",
    "\n",
    "cursor.execute(\" SELECT * FROM map_transaction\")\n",
    "mydb.commit()\n",
    "table = cursor.fetchall()\n",
    "\n",
    "Map_Tran = pd.DataFrame(table ,columns = ['States','Years','Quarters','Districts','Transaction_Count','Transaction_Amount'])\n",
    "\n",
    "# Map User :\n",
    "\n",
    "cursor.execute(\" SELECT * FROM map_user\")\n",
    "mydb.commit()\n",
    "table = cursor.fetchall()\n",
    "\n",
    "Map_User = pd.DataFrame(table ,columns = ['States','Years','Quarters','Districts','Registered_Users','App_Opens'])\n",
    "\n",
    "# Top Insurance :\n",
    "\n",
    "cursor.execute(\" SELECT * FROM top_insurance\")\n",
    "mydb.commit()\n",
    "table = cursor.fetchall()\n",
    "\n",
    "Top_Insur = pd.DataFrame(table ,columns = ['States','Years','Quarters','Pincodes','Transaction_Count','Transaction_Amount'])\n",
    "\n",
    "# Top Transaction :\n",
    "\n",
    "cursor.execute(\" SELECT * FROM top_transaction\")\n",
    "mydb.commit()\n",
    "table = cursor.fetchall()\n",
    "\n",
    "Top_Tran = pd.DataFrame(table ,columns = ['States','Years','Quarters','Pincodes','Transaction_Count','Transaction_Amount'])\n",
    "\n",
    "# Top User :\n",
    "\n",
    "cursor.execute(\" SELECT * FROM top_user\")\n",
    "mydb.commit()\n",
    "table = cursor.fetchall()\n",
    "\n",
    "Top_User = pd.DataFrame(table ,columns = ['States','Years','Quarters','Pincodes','Registered_Users'])"
   ]
  },
  {
   "cell_type": "code",
   "execution_count": 3,
   "id": "10ed1ce2-5846-4dab-b396-cb784c3852ed",
   "metadata": {},
   "outputs": [],
   "source": [
    "# Connection With MySQL :\n",
    "def top_chart_transaction_amount(table_name):\n",
    "    mydb = mysql.connector.connect(host = \"127.0.0.1\",\n",
    "                                   port = \"3306\",\n",
    "                                   user = \"root\",\n",
    "                                   password = \"Ramya$125\",\n",
    "                                   database = \"Phonepe\")\n",
    "    cursor = mydb.cursor(buffered=True)\n",
    "    \n",
    "    # Plot 1 :\n",
    "    \n",
    "    query1 = f'''select States, sum(transaction_amount) as Transaction_Amount from {table_name}\n",
    "                 group by states \n",
    "                 order by Transaction_Amount desc\n",
    "                 limit 10;\n",
    "                    '''\n",
    "    cursor.execute(query1)\n",
    "    table_1 = cursor.fetchall()\n",
    "    mydb.commit()\n",
    "    \n",
    "    df_1 = pd.DataFrame(table_1, columns=['States','Transaction_Amount'])\n",
    "    \n",
    "    fig_amount_1 = px.bar(df_1, x = \"States\", y = \"Transaction_Amount\", title = \" Top 10  =>  Transaction Amount\",\n",
    "                            color_discrete_sequence= px.colors.sequential.Peach_r, height = 500, hover_name = \"States\")\n",
    "    fig_amount_1.show()\n",
    "    \n",
    "    # Plot 2:\n",
    "    \n",
    "    query2 = f'''select States, sum(transaction_amount) as Transaction_Amount from {table_name}\n",
    "                 group by states \n",
    "                 order by Transaction_Amount \n",
    "                 limit 10;\n",
    "                    '''\n",
    "    cursor.execute(query2)\n",
    "    table_2 = cursor.fetchall()\n",
    "    mydb.commit()\n",
    "    \n",
    "    df_2 = pd.DataFrame(table_2, columns=['States','Transaction_Amount'])\n",
    "    \n",
    "    fig_amount_2= px.bar(df_2, x = \"States\", y = \"Transaction_Amount\", title = \"Least 10  =>  Transaction Amount\",\n",
    "                            color_discrete_sequence= px.colors.sequential.Greens_r, height = 500, hover_name = \"States\")\n",
    "    fig_amount_2.show()\n",
    "    \n",
    "    # Plot 3:\n",
    "    \n",
    "    query3 = f'''select States, avg(transaction_amount) as Transaction_Amount from {table_name}\n",
    "                 group by states \n",
    "                 order by Transaction_Amount ;\n",
    "                    '''\n",
    "    cursor.execute(query3)\n",
    "    table_3 = cursor.fetchall()\n",
    "    mydb.commit()\n",
    "    \n",
    "    df_3 = pd.DataFrame(table_3, columns=['States','Transaction_Amount'])\n",
    "    \n",
    "    fig_amount_3= px.bar(df_3, x = \"Transaction_Amount\", y = \"States\", title = \"Average Of Transaction Amount\", orientation = 'h',\n",
    "                            color_discrete_sequence= px.colors.sequential.amp_r, height = 500, hover_name = \"States\")\n",
    "    fig_amount_3.show()\n",
    "        "
   ]
  },
  {
   "cell_type": "code",
   "execution_count": 4,
   "id": "e65b07ac-6c32-4a94-9d01-a8e34ae5d40c",
   "metadata": {},
   "outputs": [],
   "source": [
    "# Transaction Count:\n",
    "def top_chart_transaction_count(table_name):\n",
    "    # Connection With MySQL :\n",
    "    mydb = mysql.connector.connect(host = \"127.0.0.1\",\n",
    "                                   port = \"3306\",\n",
    "                                   user = \"root\",\n",
    "                                   password = \"Ramya$125\",\n",
    "                                   database = \"Phonepe\")\n",
    "    cursor = mydb.cursor(buffered=True)\n",
    "    \n",
    "    # Plot 1 :\n",
    "    \n",
    "    query1 = f'''select States, sum(transaction_count) as Transaction_Count from {table_name}\n",
    "                 group by states \n",
    "                 order by Transaction_Count desc\n",
    "                 limit 10;\n",
    "                    '''\n",
    "    cursor.execute(query1)\n",
    "    table_1 = cursor.fetchall()\n",
    "    mydb.commit()\n",
    "    \n",
    "    df_1 = pd.DataFrame(table_1, columns=['States','Transaction_Count'])\n",
    "    \n",
    "    fig_amount_1 = px.bar(df_1, x = \"States\", y = \"Transaction_Count\", title = \" Top 10  =>  Transaction Count\",\n",
    "                            color_discrete_sequence= px.colors.sequential.Peach_r, height = 500, hover_name = \"States\")\n",
    "    fig_amount_1.show()\n",
    "    \n",
    "    # Plot 2:\n",
    "    \n",
    "    query2 = f'''select States, sum(transaction_count) as Transaction_Count from {table_name}\n",
    "                 group by states \n",
    "                 order by Transaction_Count \n",
    "                 limit 10;\n",
    "                    '''\n",
    "    cursor.execute(query2)\n",
    "    table_2 = cursor.fetchall()\n",
    "    mydb.commit()\n",
    "    \n",
    "    df_2 = pd.DataFrame(table_2, columns=['States','Transaction_Count'])\n",
    "    \n",
    "    fig_amount_2= px.bar(df_2, x = \"States\", y = \"Transaction_Count\", title = \"Least 10  =>  Transaction Count\",\n",
    "                            color_discrete_sequence= px.colors.sequential.Greens_r, height = 500, hover_name = \"States\")\n",
    "    fig_amount_2.show()\n",
    "    \n",
    "    # Plot 3:\n",
    "    \n",
    "    query3 = f'''select States, avg(transaction_count) as Transaction_Count from {table_name}\n",
    "                 group by states \n",
    "                 order by Transaction_Count ;\n",
    "                    '''\n",
    "    cursor.execute(query3)\n",
    "    table_3 = cursor.fetchall()\n",
    "    mydb.commit()\n",
    "    \n",
    "    df_3 = pd.DataFrame(table_3, columns=['States','Transaction_Count'])\n",
    "    \n",
    "    fig_amount_3= px.bar(df_3, x = \"Transaction_Count\", y = \"States\", title = \"Average Of Transaction Count\", orientation = 'h',\n",
    "                            color_discrete_sequence= px.colors.sequential.amp_r, height = 800,width = 1000 ,hover_name = \"States\")\n",
    "    fig_amount_3.show()\n",
    "        "
   ]
  },
  {
   "cell_type": "code",
   "execution_count": 41,
   "id": "c2d71795-915e-4d90-870d-fb360dceffe3",
   "metadata": {},
   "outputs": [],
   "source": [
    "# Map User Register User :\n",
    "\n",
    "def top_chart_registered_user(table_name, state):\n",
    "    # Connection With MySQL :\n",
    "    mydb = mysql.connector.connect(host = \"127.0.0.1\",\n",
    "                                   port = \"3306\",\n",
    "                                   user = \"root\",\n",
    "                                   password = \"Ramya$125\",\n",
    "                                   database = \"Phonepe\")\n",
    "    cursor = mydb.cursor(buffered=True)\n",
    "    \n",
    "    # Plot 1 :\n",
    "    \n",
    "    query1 = f'''select Districts, sum(registered_users) as Registered_Users from {table_name}\n",
    "                 where States = '{state}'\n",
    "                 group by Districts\n",
    "                 order by Registered_Users desc\n",
    "                 limit 10;\n",
    "\n",
    "                    '''\n",
    "    cursor.execute(query1)\n",
    "    table_1 = cursor.fetchall()\n",
    "    mydb.commit()\n",
    "    \n",
    "    df_1 = pd.DataFrame(table_1, columns=['Districts','Registerd_Users'])\n",
    "    \n",
    "    fig_amount_1 = px.bar(df_1, x = \"Districts\", y = \"Registerd_Users\", title = \" Top 10  => Registered Users\",width = 600,\n",
    "                            color_discrete_sequence= px.colors.sequential.YlGnBu_r, height = 615, hover_name = \"Districts\")\n",
    "    fig_amount_1.show()\n",
    "    \n",
    "    # Plot 2:\n",
    "    \n",
    "    query2 = f'''select Districts, sum(registered_users) as Registered_Users from {table_name}\n",
    "                 where States = '{state}'\n",
    "                 group by Districts\n",
    "                 order by Registered_Users \n",
    "                 limit 10;\n",
    "                    '''\n",
    "    cursor.execute(query2)\n",
    "    table_2 = cursor.fetchall()\n",
    "    mydb.commit()\n",
    "    \n",
    "    df_2 = pd.DataFrame(table_2, columns=['Districts','Registerd_Users'])\n",
    "    \n",
    "    fig_amount_2= px.bar(df_2, x = \"Districts\", y = \"Registerd_Users\", title = \"Least 10  =>  Registerd Users\",height = 615,\n",
    "                            color_discrete_sequence= px.colors.sequential.Rainbow, width = 600, hover_name = \"Districts\")\n",
    "    fig_amount_2.show()\n",
    "    \n",
    "    # Plot 3:\n",
    "    \n",
    "    query3 = f'''select Districts, avg(registered_users) as Registered_Users from {table_name}\n",
    "                 where States = '{state}'\n",
    "                 group by Districts\n",
    "                 order by Registered_Users ;\n",
    "                    '''\n",
    "    cursor.execute(query3)\n",
    "    table_3 = cursor.fetchall()\n",
    "    mydb.commit()\n",
    "    \n",
    "    df_3 = pd.DataFrame(table_3, columns=['Districts','Registerd_Users'])\n",
    "    \n",
    "    fig_amount_3= px.bar(df_3, x = \"Registerd_Users\", y = \"Districts\", title = \"Average Of Registerd Users\", orientation = 'h',width = 1000,\n",
    "                            color_discrete_sequence= px.colors.sequential.Rainbow_r, height = 800, hover_name = \"Districts\")\n",
    "    fig_amount_3.show()\n",
    "        "
   ]
  },
  {
   "cell_type": "code",
   "execution_count": 52,
   "id": "e0722d8d-8b96-48bf-b8c7-945ab64e0a8e",
   "metadata": {},
   "outputs": [],
   "source": [
    "# Map User App Opens  :\n",
    "\n",
    "def top_chart_app_opens(table_name, state):\n",
    "    # Connection With MySQL :\n",
    "    mydb = mysql.connector.connect(host = \"127.0.0.1\",\n",
    "                                   port = \"3306\",\n",
    "                                   user = \"root\",\n",
    "                                   password = \"Ramya$125\",\n",
    "                                   database = \"Phonepe\")\n",
    "    cursor = mydb.cursor(buffered=True)\n",
    "    \n",
    "    # Plot 1 :\n",
    "    \n",
    "    query1 = f'''select Districts, sum(App_Opens) as App_Opens from {table_name}\n",
    "                where States ='{state}'\n",
    "                group by Districts\n",
    "                order by App_Opens desc\n",
    "                limit 10;\n",
    "\n",
    "                    '''\n",
    "    cursor.execute(query1)\n",
    "    table_1 = cursor.fetchall()\n",
    "    mydb.commit()\n",
    "    \n",
    "    df_1 = pd.DataFrame(table_1, columns=['Districts','App_Opens'])\n",
    "    \n",
    "    fig_amount_1 = px.bar(df_1, x = \"Districts\", y = \"App_Opens\", title = \" Top 10  => App Opens\",width = 600,\n",
    "                            color_discrete_sequence= px.colors.sequential.YlGnBu_r, height = 615, hover_name = \"Districts\")\n",
    "    fig_amount_1.show()\n",
    "    \n",
    "    # Plot 2:\n",
    "    \n",
    "    query2 = f'''select Districts, sum(App_Opens) as App_Opens from {table_name}\n",
    "                where States ='{state}'\n",
    "                group by Districts\n",
    "                order by App_Opens \n",
    "                limit 10;\n",
    "                    '''\n",
    "    cursor.execute(query2)\n",
    "    table_2 = cursor.fetchall()\n",
    "    mydb.commit()\n",
    "    \n",
    "    df_2 = pd.DataFrame(table_2, columns=['Districts','App_Opens'])\n",
    "    \n",
    "    fig_amount_2= px.bar(df_2, x = \"Districts\", y = \"App_Opens\", title = \"Least 10  =>  App Opens\",height = 615,\n",
    "                            color_discrete_sequence= px.colors.sequential.Rainbow, width = 600, hover_name = \"Districts\")\n",
    "    fig_amount_2.show()\n",
    "    \n",
    "    # Plot 3:\n",
    "    \n",
    "    query3 = f'''select Districts, avg(App_Opens) as App_Opens from {table_name}\n",
    "                 where States = '{state}'\n",
    "                 group by Districts\n",
    "                 order by App_Opens ;\n",
    "                    '''\n",
    "    cursor.execute(query3)\n",
    "    table_3 = cursor.fetchall()\n",
    "    mydb.commit()\n",
    "    \n",
    "    df_3 = pd.DataFrame(table_3, columns=['Districts','App_Opens'])\n",
    "    \n",
    "    fig_amount_3= px.bar(df_3, x = \"App_Opens\", y = \"Districts\", title = \"Average Of App_Opens\", orientation = 'h',width = 1000,\n",
    "                            color_discrete_sequence= px.colors.sequential.Rainbow_r, height = 800, hover_name = \"Districts\")\n",
    "    fig_amount_3.show()\n",
    "        "
   ]
  },
  {
   "cell_type": "code",
   "execution_count": 57,
   "id": "f015b8c5-eb99-4a75-9ba2-b57c54de0a35",
   "metadata": {},
   "outputs": [],
   "source": [
    "# Top User Register User :\n",
    "\n",
    "def top_chart_registered_users(table_name):\n",
    "    # Connection With MySQL :\n",
    "    mydb = mysql.connector.connect(host = \"127.0.0.1\",\n",
    "                                   port = \"3306\",\n",
    "                                   user = \"root\",\n",
    "                                   password = \"Ramya$125\",\n",
    "                                   database = \"Phonepe\")\n",
    "    cursor = mydb.cursor(buffered=True)\n",
    "    \n",
    "    # Plot 1 :\n",
    "    \n",
    "    query1 = f'''select States, sum(registered_users) as Registered_Users from {table_name}\n",
    "                 group by States\n",
    "                 order by Registered_Users desc\n",
    "                 limit 10;\n",
    "\n",
    "                    '''\n",
    "    cursor.execute(query1)\n",
    "    table_1 = cursor.fetchall()\n",
    "    mydb.commit()\n",
    "    \n",
    "    df_1 = pd.DataFrame(table_1, columns=['States','Registerd_Users'])\n",
    "    \n",
    "    fig_amount_1 = px.bar(df_1, x = \"States\", y = \"Registerd_Users\", title = \" Top 10  => Registered Users\",width = 600,\n",
    "                            color_discrete_sequence= px.colors.sequential.YlGnBu_r, height = 615, hover_name = \"States\")\n",
    "    fig_amount_1.show()\n",
    "    \n",
    "    # Plot 2:\n",
    "    \n",
    "    query2 = f'''select States, sum(registered_users) as Registered_Users from {table_name}\n",
    "                 group by States\n",
    "                 order by Registered_Users \n",
    "                 limit 10;\n",
    "                    '''\n",
    "    cursor.execute(query2)\n",
    "    table_2 = cursor.fetchall()\n",
    "    mydb.commit()\n",
    "    \n",
    "    df_2 = pd.DataFrame(table_2, columns=['States','Registerd_Users'])\n",
    "    \n",
    "    fig_amount_2= px.bar(df_2, x = \"States\", y = \"Registerd_Users\", title = \"Least 10  =>  Registerd Users\",height = 615,\n",
    "                            color_discrete_sequence= px.colors.sequential.Rainbow, width = 600, hover_name = \"States\")\n",
    "    fig_amount_2.show()\n",
    "    \n",
    "    # Plot 3:\n",
    "    \n",
    "    query3 = f'''select States, avg(registered_users) as Registered_Users from {table_name}\n",
    "                 group by States\n",
    "                 order by Registered_Users ;\n",
    "                    '''\n",
    "    cursor.execute(query3)\n",
    "    table_3 = cursor.fetchall()\n",
    "    mydb.commit()\n",
    "    \n",
    "    df_3 = pd.DataFrame(table_3, columns=['States','Registerd_Users'])\n",
    "    \n",
    "    fig_amount_3= px.bar(df_3, x = \"Registerd_Users\", y = \"States\", title = \"Average Of Registerd Users\", orientation = 'h',width = 1000,\n",
    "                            color_discrete_sequence= px.colors.sequential.Rainbow_r, height = 800, hover_name = \"States\")\n",
    "    fig_amount_3.show()\n",
    "        "
   ]
  },
  {
   "cell_type": "code",
   "execution_count": 58,
   "id": "df23c04d-dd0a-470a-8bd8-1856b2a832aa",
   "metadata": {},
   "outputs": [
    {
     "data": {
      "application/vnd.plotly.v1+json": {
       "config": {
        "plotlyServerURL": "https://plot.ly"
       },
       "data": [
        {
         "alignmentgroup": "True",
         "hovertemplate": "<b>%{hovertext}</b><br><br>States=%{x}<br>Registerd_Users=%{y}<extra></extra>",
         "hovertext": [
          "Delhi",
          "Karnataka",
          "Uttar Pradesh",
          "Maharashtra",
          "Haryana",
          "Telangana",
          "Rajasthan",
          "Gujarat",
          "Madhya Pradesh",
          "Bihar"
         ],
         "legendgroup": "",
         "marker": {
          "color": "rgb(8,29,88)",
          "pattern": {
           "shape": ""
          }
         },
         "name": "",
         "offsetgroup": "",
         "orientation": "v",
         "showlegend": false,
         "textposition": "auto",
         "type": "bar",
         "x": [
          "Delhi",
          "Karnataka",
          "Uttar Pradesh",
          "Maharashtra",
          "Haryana",
          "Telangana",
          "Rajasthan",
          "Gujarat",
          "Madhya Pradesh",
          "Bihar"
         ],
         "xaxis": "x",
         "y": [
          74549553,
          68997193,
          66284341,
          66276247,
          56895855,
          54427101,
          49988246,
          41343785,
          39421753,
          36312419
         ],
         "yaxis": "y"
        }
       ],
       "layout": {
        "barmode": "relative",
        "height": 615,
        "legend": {
         "tracegroupgap": 0
        },
        "template": {
         "data": {
          "bar": [
           {
            "error_x": {
             "color": "#2a3f5f"
            },
            "error_y": {
             "color": "#2a3f5f"
            },
            "marker": {
             "line": {
              "color": "#E5ECF6",
              "width": 0.5
             },
             "pattern": {
              "fillmode": "overlay",
              "size": 10,
              "solidity": 0.2
             }
            },
            "type": "bar"
           }
          ],
          "barpolar": [
           {
            "marker": {
             "line": {
              "color": "#E5ECF6",
              "width": 0.5
             },
             "pattern": {
              "fillmode": "overlay",
              "size": 10,
              "solidity": 0.2
             }
            },
            "type": "barpolar"
           }
          ],
          "carpet": [
           {
            "aaxis": {
             "endlinecolor": "#2a3f5f",
             "gridcolor": "white",
             "linecolor": "white",
             "minorgridcolor": "white",
             "startlinecolor": "#2a3f5f"
            },
            "baxis": {
             "endlinecolor": "#2a3f5f",
             "gridcolor": "white",
             "linecolor": "white",
             "minorgridcolor": "white",
             "startlinecolor": "#2a3f5f"
            },
            "type": "carpet"
           }
          ],
          "choropleth": [
           {
            "colorbar": {
             "outlinewidth": 0,
             "ticks": ""
            },
            "type": "choropleth"
           }
          ],
          "contour": [
           {
            "colorbar": {
             "outlinewidth": 0,
             "ticks": ""
            },
            "colorscale": [
             [
              0,
              "#0d0887"
             ],
             [
              0.1111111111111111,
              "#46039f"
             ],
             [
              0.2222222222222222,
              "#7201a8"
             ],
             [
              0.3333333333333333,
              "#9c179e"
             ],
             [
              0.4444444444444444,
              "#bd3786"
             ],
             [
              0.5555555555555556,
              "#d8576b"
             ],
             [
              0.6666666666666666,
              "#ed7953"
             ],
             [
              0.7777777777777778,
              "#fb9f3a"
             ],
             [
              0.8888888888888888,
              "#fdca26"
             ],
             [
              1,
              "#f0f921"
             ]
            ],
            "type": "contour"
           }
          ],
          "contourcarpet": [
           {
            "colorbar": {
             "outlinewidth": 0,
             "ticks": ""
            },
            "type": "contourcarpet"
           }
          ],
          "heatmap": [
           {
            "colorbar": {
             "outlinewidth": 0,
             "ticks": ""
            },
            "colorscale": [
             [
              0,
              "#0d0887"
             ],
             [
              0.1111111111111111,
              "#46039f"
             ],
             [
              0.2222222222222222,
              "#7201a8"
             ],
             [
              0.3333333333333333,
              "#9c179e"
             ],
             [
              0.4444444444444444,
              "#bd3786"
             ],
             [
              0.5555555555555556,
              "#d8576b"
             ],
             [
              0.6666666666666666,
              "#ed7953"
             ],
             [
              0.7777777777777778,
              "#fb9f3a"
             ],
             [
              0.8888888888888888,
              "#fdca26"
             ],
             [
              1,
              "#f0f921"
             ]
            ],
            "type": "heatmap"
           }
          ],
          "heatmapgl": [
           {
            "colorbar": {
             "outlinewidth": 0,
             "ticks": ""
            },
            "colorscale": [
             [
              0,
              "#0d0887"
             ],
             [
              0.1111111111111111,
              "#46039f"
             ],
             [
              0.2222222222222222,
              "#7201a8"
             ],
             [
              0.3333333333333333,
              "#9c179e"
             ],
             [
              0.4444444444444444,
              "#bd3786"
             ],
             [
              0.5555555555555556,
              "#d8576b"
             ],
             [
              0.6666666666666666,
              "#ed7953"
             ],
             [
              0.7777777777777778,
              "#fb9f3a"
             ],
             [
              0.8888888888888888,
              "#fdca26"
             ],
             [
              1,
              "#f0f921"
             ]
            ],
            "type": "heatmapgl"
           }
          ],
          "histogram": [
           {
            "marker": {
             "pattern": {
              "fillmode": "overlay",
              "size": 10,
              "solidity": 0.2
             }
            },
            "type": "histogram"
           }
          ],
          "histogram2d": [
           {
            "colorbar": {
             "outlinewidth": 0,
             "ticks": ""
            },
            "colorscale": [
             [
              0,
              "#0d0887"
             ],
             [
              0.1111111111111111,
              "#46039f"
             ],
             [
              0.2222222222222222,
              "#7201a8"
             ],
             [
              0.3333333333333333,
              "#9c179e"
             ],
             [
              0.4444444444444444,
              "#bd3786"
             ],
             [
              0.5555555555555556,
              "#d8576b"
             ],
             [
              0.6666666666666666,
              "#ed7953"
             ],
             [
              0.7777777777777778,
              "#fb9f3a"
             ],
             [
              0.8888888888888888,
              "#fdca26"
             ],
             [
              1,
              "#f0f921"
             ]
            ],
            "type": "histogram2d"
           }
          ],
          "histogram2dcontour": [
           {
            "colorbar": {
             "outlinewidth": 0,
             "ticks": ""
            },
            "colorscale": [
             [
              0,
              "#0d0887"
             ],
             [
              0.1111111111111111,
              "#46039f"
             ],
             [
              0.2222222222222222,
              "#7201a8"
             ],
             [
              0.3333333333333333,
              "#9c179e"
             ],
             [
              0.4444444444444444,
              "#bd3786"
             ],
             [
              0.5555555555555556,
              "#d8576b"
             ],
             [
              0.6666666666666666,
              "#ed7953"
             ],
             [
              0.7777777777777778,
              "#fb9f3a"
             ],
             [
              0.8888888888888888,
              "#fdca26"
             ],
             [
              1,
              "#f0f921"
             ]
            ],
            "type": "histogram2dcontour"
           }
          ],
          "mesh3d": [
           {
            "colorbar": {
             "outlinewidth": 0,
             "ticks": ""
            },
            "type": "mesh3d"
           }
          ],
          "parcoords": [
           {
            "line": {
             "colorbar": {
              "outlinewidth": 0,
              "ticks": ""
             }
            },
            "type": "parcoords"
           }
          ],
          "pie": [
           {
            "automargin": true,
            "type": "pie"
           }
          ],
          "scatter": [
           {
            "fillpattern": {
             "fillmode": "overlay",
             "size": 10,
             "solidity": 0.2
            },
            "type": "scatter"
           }
          ],
          "scatter3d": [
           {
            "line": {
             "colorbar": {
              "outlinewidth": 0,
              "ticks": ""
             }
            },
            "marker": {
             "colorbar": {
              "outlinewidth": 0,
              "ticks": ""
             }
            },
            "type": "scatter3d"
           }
          ],
          "scattercarpet": [
           {
            "marker": {
             "colorbar": {
              "outlinewidth": 0,
              "ticks": ""
             }
            },
            "type": "scattercarpet"
           }
          ],
          "scattergeo": [
           {
            "marker": {
             "colorbar": {
              "outlinewidth": 0,
              "ticks": ""
             }
            },
            "type": "scattergeo"
           }
          ],
          "scattergl": [
           {
            "marker": {
             "colorbar": {
              "outlinewidth": 0,
              "ticks": ""
             }
            },
            "type": "scattergl"
           }
          ],
          "scattermapbox": [
           {
            "marker": {
             "colorbar": {
              "outlinewidth": 0,
              "ticks": ""
             }
            },
            "type": "scattermapbox"
           }
          ],
          "scatterpolar": [
           {
            "marker": {
             "colorbar": {
              "outlinewidth": 0,
              "ticks": ""
             }
            },
            "type": "scatterpolar"
           }
          ],
          "scatterpolargl": [
           {
            "marker": {
             "colorbar": {
              "outlinewidth": 0,
              "ticks": ""
             }
            },
            "type": "scatterpolargl"
           }
          ],
          "scatterternary": [
           {
            "marker": {
             "colorbar": {
              "outlinewidth": 0,
              "ticks": ""
             }
            },
            "type": "scatterternary"
           }
          ],
          "surface": [
           {
            "colorbar": {
             "outlinewidth": 0,
             "ticks": ""
            },
            "colorscale": [
             [
              0,
              "#0d0887"
             ],
             [
              0.1111111111111111,
              "#46039f"
             ],
             [
              0.2222222222222222,
              "#7201a8"
             ],
             [
              0.3333333333333333,
              "#9c179e"
             ],
             [
              0.4444444444444444,
              "#bd3786"
             ],
             [
              0.5555555555555556,
              "#d8576b"
             ],
             [
              0.6666666666666666,
              "#ed7953"
             ],
             [
              0.7777777777777778,
              "#fb9f3a"
             ],
             [
              0.8888888888888888,
              "#fdca26"
             ],
             [
              1,
              "#f0f921"
             ]
            ],
            "type": "surface"
           }
          ],
          "table": [
           {
            "cells": {
             "fill": {
              "color": "#EBF0F8"
             },
             "line": {
              "color": "white"
             }
            },
            "header": {
             "fill": {
              "color": "#C8D4E3"
             },
             "line": {
              "color": "white"
             }
            },
            "type": "table"
           }
          ]
         },
         "layout": {
          "annotationdefaults": {
           "arrowcolor": "#2a3f5f",
           "arrowhead": 0,
           "arrowwidth": 1
          },
          "autotypenumbers": "strict",
          "coloraxis": {
           "colorbar": {
            "outlinewidth": 0,
            "ticks": ""
           }
          },
          "colorscale": {
           "diverging": [
            [
             0,
             "#8e0152"
            ],
            [
             0.1,
             "#c51b7d"
            ],
            [
             0.2,
             "#de77ae"
            ],
            [
             0.3,
             "#f1b6da"
            ],
            [
             0.4,
             "#fde0ef"
            ],
            [
             0.5,
             "#f7f7f7"
            ],
            [
             0.6,
             "#e6f5d0"
            ],
            [
             0.7,
             "#b8e186"
            ],
            [
             0.8,
             "#7fbc41"
            ],
            [
             0.9,
             "#4d9221"
            ],
            [
             1,
             "#276419"
            ]
           ],
           "sequential": [
            [
             0,
             "#0d0887"
            ],
            [
             0.1111111111111111,
             "#46039f"
            ],
            [
             0.2222222222222222,
             "#7201a8"
            ],
            [
             0.3333333333333333,
             "#9c179e"
            ],
            [
             0.4444444444444444,
             "#bd3786"
            ],
            [
             0.5555555555555556,
             "#d8576b"
            ],
            [
             0.6666666666666666,
             "#ed7953"
            ],
            [
             0.7777777777777778,
             "#fb9f3a"
            ],
            [
             0.8888888888888888,
             "#fdca26"
            ],
            [
             1,
             "#f0f921"
            ]
           ],
           "sequentialminus": [
            [
             0,
             "#0d0887"
            ],
            [
             0.1111111111111111,
             "#46039f"
            ],
            [
             0.2222222222222222,
             "#7201a8"
            ],
            [
             0.3333333333333333,
             "#9c179e"
            ],
            [
             0.4444444444444444,
             "#bd3786"
            ],
            [
             0.5555555555555556,
             "#d8576b"
            ],
            [
             0.6666666666666666,
             "#ed7953"
            ],
            [
             0.7777777777777778,
             "#fb9f3a"
            ],
            [
             0.8888888888888888,
             "#fdca26"
            ],
            [
             1,
             "#f0f921"
            ]
           ]
          },
          "colorway": [
           "#636efa",
           "#EF553B",
           "#00cc96",
           "#ab63fa",
           "#FFA15A",
           "#19d3f3",
           "#FF6692",
           "#B6E880",
           "#FF97FF",
           "#FECB52"
          ],
          "font": {
           "color": "#2a3f5f"
          },
          "geo": {
           "bgcolor": "white",
           "lakecolor": "white",
           "landcolor": "#E5ECF6",
           "showlakes": true,
           "showland": true,
           "subunitcolor": "white"
          },
          "hoverlabel": {
           "align": "left"
          },
          "hovermode": "closest",
          "mapbox": {
           "style": "light"
          },
          "paper_bgcolor": "white",
          "plot_bgcolor": "#E5ECF6",
          "polar": {
           "angularaxis": {
            "gridcolor": "white",
            "linecolor": "white",
            "ticks": ""
           },
           "bgcolor": "#E5ECF6",
           "radialaxis": {
            "gridcolor": "white",
            "linecolor": "white",
            "ticks": ""
           }
          },
          "scene": {
           "xaxis": {
            "backgroundcolor": "#E5ECF6",
            "gridcolor": "white",
            "gridwidth": 2,
            "linecolor": "white",
            "showbackground": true,
            "ticks": "",
            "zerolinecolor": "white"
           },
           "yaxis": {
            "backgroundcolor": "#E5ECF6",
            "gridcolor": "white",
            "gridwidth": 2,
            "linecolor": "white",
            "showbackground": true,
            "ticks": "",
            "zerolinecolor": "white"
           },
           "zaxis": {
            "backgroundcolor": "#E5ECF6",
            "gridcolor": "white",
            "gridwidth": 2,
            "linecolor": "white",
            "showbackground": true,
            "ticks": "",
            "zerolinecolor": "white"
           }
          },
          "shapedefaults": {
           "line": {
            "color": "#2a3f5f"
           }
          },
          "ternary": {
           "aaxis": {
            "gridcolor": "white",
            "linecolor": "white",
            "ticks": ""
           },
           "baxis": {
            "gridcolor": "white",
            "linecolor": "white",
            "ticks": ""
           },
           "bgcolor": "#E5ECF6",
           "caxis": {
            "gridcolor": "white",
            "linecolor": "white",
            "ticks": ""
           }
          },
          "title": {
           "x": 0.05
          },
          "xaxis": {
           "automargin": true,
           "gridcolor": "white",
           "linecolor": "white",
           "ticks": "",
           "title": {
            "standoff": 15
           },
           "zerolinecolor": "white",
           "zerolinewidth": 2
          },
          "yaxis": {
           "automargin": true,
           "gridcolor": "white",
           "linecolor": "white",
           "ticks": "",
           "title": {
            "standoff": 15
           },
           "zerolinecolor": "white",
           "zerolinewidth": 2
          }
         }
        },
        "title": {
         "text": " Top 10  => Registered Users"
        },
        "width": 600,
        "xaxis": {
         "anchor": "y",
         "autorange": true,
         "domain": [
          0,
          1
         ],
         "range": [
          -0.5,
          9.5
         ],
         "title": {
          "text": "States"
         },
         "type": "category"
        },
        "yaxis": {
         "anchor": "x",
         "autorange": true,
         "domain": [
          0,
          1
         ],
         "range": [
          0,
          78473213.68421052
         ],
         "title": {
          "text": "Registerd_Users"
         },
         "type": "linear"
        }
       }
      },
      "image/png": "[encoded data removed]",
      "text/html": [
       "<div>                            <div id=\"b5115e5f-9575-400b-9817-f34c802373c8\" class=\"plotly-graph-div\" style=\"height:615px; width:600px;\"></div>            <script type=\"text/javascript\">                require([\"plotly\"], function(Plotly) {                    window.PLOTLYENV=window.PLOTLYENV || {};                                    if (document.getElementById(\"b5115e5f-9575-400b-9817-f34c802373c8\")) {                    Plotly.newPlot(                        \"b5115e5f-9575-400b-9817-f34c802373c8\",                        [{\"alignmentgroup\":\"True\",\"hovertemplate\":\"<b>%{hovertext}</b><br><br>States=%{x}<br>Registerd_Users=%{y}<extra></extra>\",\"hovertext\":[\"Delhi\",\"Karnataka\",\"Uttar Pradesh\",\"Maharashtra\",\"Haryana\",\"Telangana\",\"Rajasthan\",\"Gujarat\",\"Madhya Pradesh\",\"Bihar\"],\"legendgroup\":\"\",\"marker\":{\"color\":\"rgb(8,29,88)\",\"pattern\":{\"shape\":\"\"}},\"name\":\"\",\"offsetgroup\":\"\",\"orientation\":\"v\",\"showlegend\":false,\"textposition\":\"auto\",\"x\":[\"Delhi\",\"Karnataka\",\"Uttar Pradesh\",\"Maharashtra\",\"Haryana\",\"Telangana\",\"Rajasthan\",\"Gujarat\",\"Madhya Pradesh\",\"Bihar\"],\"xaxis\":\"x\",\"y\":[74549553.0,68997193.0,66284341.0,66276247.0,56895855.0,54427101.0,49988246.0,41343785.0,39421753.0,36312419.0],\"yaxis\":\"y\",\"type\":\"bar\"}],                        {\"template\":{\"data\":{\"histogram2dcontour\":[{\"type\":\"histogram2dcontour\",\"colorbar\":{\"outlinewidth\":0,\"ticks\":\"\"},\"colorscale\":[[0.0,\"#0d0887\"],[0.1111111111111111,\"#46039f\"],[0.2222222222222222,\"#7201a8\"],[0.3333333333333333,\"#9c179e\"],[0.4444444444444444,\"#bd3786\"],[0.5555555555555556,\"#d8576b\"],[0.6666666666666666,\"#ed7953\"],[0.7777777777777778,\"#fb9f3a\"],[0.8888888888888888,\"#fdca26\"],[1.0,\"#f0f921\"]]}],\"choropleth\":[{\"type\":\"choropleth\",\"colorbar\":{\"outlinewidth\":0,\"ticks\":\"\"}}],\"histogram2d\":[{\"type\":\"histogram2d\",\"colorbar\":{\"outlinewidth\":0,\"ticks\":\"\"},\"colorscale\":[[0.0,\"#0d0887\"],[0.1111111111111111,\"#46039f\"],[0.2222222222222222,\"#7201a8\"],[0.3333333333333333,\"#9c179e\"],[0.4444444444444444,\"#bd3786\"],[0.5555555555555556,\"#d8576b\"],[0.6666666666666666,\"#ed7953\"],[0.7777777777777778,\"#fb9f3a\"],[0.8888888888888888,\"#fdca26\"],[1.0,\"#f0f921\"]]}],\"heatmap\":[{\"type\":\"heatmap\",\"colorbar\":{\"outlinewidth\":0,\"ticks\":\"\"},\"colorscale\":[[0.0,\"#0d0887\"],[0.1111111111111111,\"#46039f\"],[0.2222222222222222,\"#7201a8\"],[0.3333333333333333,\"#9c179e\"],[0.4444444444444444,\"#bd3786\"],[0.5555555555555556,\"#d8576b\"],[0.6666666666666666,\"#ed7953\"],[0.7777777777777778,\"#fb9f3a\"],[0.8888888888888888,\"#fdca26\"],[1.0,\"#f0f921\"]]}],\"heatmapgl\":[{\"type\":\"heatmapgl\",\"colorbar\":{\"outlinewidth\":0,\"ticks\":\"\"},\"colorscale\":[[0.0,\"#0d0887\"],[0.1111111111111111,\"#46039f\"],[0.2222222222222222,\"#7201a8\"],[0.3333333333333333,\"#9c179e\"],[0.4444444444444444,\"#bd3786\"],[0.5555555555555556,\"#d8576b\"],[0.6666666666666666,\"#ed7953\"],[0.7777777777777778,\"#fb9f3a\"],[0.8888888888888888,\"#fdca26\"],[1.0,\"#f0f921\"]]}],\"contourcarpet\":[{\"type\":\"contourcarpet\",\"colorbar\":{\"outlinewidth\":0,\"ticks\":\"\"}}],\"contour\":[{\"type\":\"contour\",\"colorbar\":{\"outlinewidth\":0,\"ticks\":\"\"},\"colorscale\":[[0.0,\"#0d0887\"],[0.1111111111111111,\"#46039f\"],[0.2222222222222222,\"#7201a8\"],[0.3333333333333333,\"#9c179e\"],[0.4444444444444444,\"#bd3786\"],[0.5555555555555556,\"#d8576b\"],[0.6666666666666666,\"#ed7953\"],[0.7777777777777778,\"#fb9f3a\"],[0.8888888888888888,\"#fdca26\"],[1.0,\"#f0f921\"]]}],\"surface\":[{\"type\":\"surface\",\"colorbar\":{\"outlinewidth\":0,\"ticks\":\"\"},\"colorscale\":[[0.0,\"#0d0887\"],[0.1111111111111111,\"#46039f\"],[0.2222222222222222,\"#7201a8\"],[0.3333333333333333,\"#9c179e\"],[0.4444444444444444,\"#bd3786\"],[0.5555555555555556,\"#d8576b\"],[0.6666666666666666,\"#ed7953\"],[0.7777777777777778,\"#fb9f3a\"],[0.8888888888888888,\"#fdca26\"],[1.0,\"#f0f921\"]]}],\"mesh3d\":[{\"type\":\"mesh3d\",\"colorbar\":{\"outlinewidth\":0,\"ticks\":\"\"}}],\"scatter\":[{\"fillpattern\":{\"fillmode\":\"overlay\",\"size\":10,\"solidity\":0.2},\"type\":\"scatter\"}],\"parcoords\":[{\"type\":\"parcoords\",\"line\":{\"colorbar\":{\"outlinewidth\":0,\"ticks\":\"\"}}}],\"scatterpolargl\":[{\"type\":\"scatterpolargl\",\"marker\":{\"colorbar\":{\"outlinewidth\":0,\"ticks\":\"\"}}}],\"bar\":[{\"error_x\":{\"color\":\"#2a3f5f\"},\"error_y\":{\"color\":\"#2a3f5f\"},\"marker\":{\"line\":{\"color\":\"#E5ECF6\",\"width\":0.5},\"pattern\":{\"fillmode\":\"overlay\",\"size\":10,\"solidity\":0.2}},\"type\":\"bar\"}],\"scattergeo\":[{\"type\":\"scattergeo\",\"marker\":{\"colorbar\":{\"outlinewidth\":0,\"ticks\":\"\"}}}],\"scatterpolar\":[{\"type\":\"scatterpolar\",\"marker\":{\"colorbar\":{\"outlinewidth\":0,\"ticks\":\"\"}}}],\"histogram\":[{\"marker\":{\"pattern\":{\"fillmode\":\"overlay\",\"size\":10,\"solidity\":0.2}},\"type\":\"histogram\"}],\"scattergl\":[{\"type\":\"scattergl\",\"marker\":{\"colorbar\":{\"outlinewidth\":0,\"ticks\":\"\"}}}],\"scatter3d\":[{\"type\":\"scatter3d\",\"line\":{\"colorbar\":{\"outlinewidth\":0,\"ticks\":\"\"}},\"marker\":{\"colorbar\":{\"outlinewidth\":0,\"ticks\":\"\"}}}],\"scattermapbox\":[{\"type\":\"scattermapbox\",\"marker\":{\"colorbar\":{\"outlinewidth\":0,\"ticks\":\"\"}}}],\"scatterternary\":[{\"type\":\"scatterternary\",\"marker\":{\"colorbar\":{\"outlinewidth\":0,\"ticks\":\"\"}}}],\"scattercarpet\":[{\"type\":\"scattercarpet\",\"marker\":{\"colorbar\":{\"outlinewidth\":0,\"ticks\":\"\"}}}],\"carpet\":[{\"aaxis\":{\"endlinecolor\":\"#2a3f5f\",\"gridcolor\":\"white\",\"linecolor\":\"white\",\"minorgridcolor\":\"white\",\"startlinecolor\":\"#2a3f5f\"},\"baxis\":{\"endlinecolor\":\"#2a3f5f\",\"gridcolor\":\"white\",\"linecolor\":\"white\",\"minorgridcolor\":\"white\",\"startlinecolor\":\"#2a3f5f\"},\"type\":\"carpet\"}],\"table\":[{\"cells\":{\"fill\":{\"color\":\"#EBF0F8\"},\"line\":{\"color\":\"white\"}},\"header\":{\"fill\":{\"color\":\"#C8D4E3\"},\"line\":{\"color\":\"white\"}},\"type\":\"table\"}],\"barpolar\":[{\"marker\":{\"line\":{\"color\":\"#E5ECF6\",\"width\":0.5},\"pattern\":{\"fillmode\":\"overlay\",\"size\":10,\"solidity\":0.2}},\"type\":\"barpolar\"}],\"pie\":[{\"automargin\":true,\"type\":\"pie\"}]},\"layout\":{\"autotypenumbers\":\"strict\",\"colorway\":[\"#636efa\",\"#EF553B\",\"#00cc96\",\"#ab63fa\",\"#FFA15A\",\"#19d3f3\",\"#FF6692\",\"#B6E880\",\"#FF97FF\",\"#FECB52\"],\"font\":{\"color\":\"#2a3f5f\"},\"hovermode\":\"closest\",\"hoverlabel\":{\"align\":\"left\"},\"paper_bgcolor\":\"white\",\"plot_bgcolor\":\"#E5ECF6\",\"polar\":{\"bgcolor\":\"#E5ECF6\",\"angularaxis\":{\"gridcolor\":\"white\",\"linecolor\":\"white\",\"ticks\":\"\"},\"radialaxis\":{\"gridcolor\":\"white\",\"linecolor\":\"white\",\"ticks\":\"\"}},\"ternary\":{\"bgcolor\":\"#E5ECF6\",\"aaxis\":{\"gridcolor\":\"white\",\"linecolor\":\"white\",\"ticks\":\"\"},\"baxis\":{\"gridcolor\":\"white\",\"linecolor\":\"white\",\"ticks\":\"\"},\"caxis\":{\"gridcolor\":\"white\",\"linecolor\":\"white\",\"ticks\":\"\"}},\"coloraxis\":{\"colorbar\":{\"outlinewidth\":0,\"ticks\":\"\"}},\"colorscale\":{\"sequential\":[[0.0,\"#0d0887\"],[0.1111111111111111,\"#46039f\"],[0.2222222222222222,\"#7201a8\"],[0.3333333333333333,\"#9c179e\"],[0.4444444444444444,\"#bd3786\"],[0.5555555555555556,\"#d8576b\"],[0.6666666666666666,\"#ed7953\"],[0.7777777777777778,\"#fb9f3a\"],[0.8888888888888888,\"#fdca26\"],[1.0,\"#f0f921\"]],\"sequentialminus\":[[0.0,\"#0d0887\"],[0.1111111111111111,\"#46039f\"],[0.2222222222222222,\"#7201a8\"],[0.3333333333333333,\"#9c179e\"],[0.4444444444444444,\"#bd3786\"],[0.5555555555555556,\"#d8576b\"],[0.6666666666666666,\"#ed7953\"],[0.7777777777777778,\"#fb9f3a\"],[0.8888888888888888,\"#fdca26\"],[1.0,\"#f0f921\"]],\"diverging\":[[0,\"#8e0152\"],[0.1,\"#c51b7d\"],[0.2,\"#de77ae\"],[0.3,\"#f1b6da\"],[0.4,\"#fde0ef\"],[0.5,\"#f7f7f7\"],[0.6,\"#e6f5d0\"],[0.7,\"#b8e186\"],[0.8,\"#7fbc41\"],[0.9,\"#4d9221\"],[1,\"#276419\"]]},\"xaxis\":{\"gridcolor\":\"white\",\"linecolor\":\"white\",\"ticks\":\"\",\"title\":{\"standoff\":15},\"zerolinecolor\":\"white\",\"automargin\":true,\"zerolinewidth\":2},\"yaxis\":{\"gridcolor\":\"white\",\"linecolor\":\"white\",\"ticks\":\"\",\"title\":{\"standoff\":15},\"zerolinecolor\":\"white\",\"automargin\":true,\"zerolinewidth\":2},\"scene\":{\"xaxis\":{\"backgroundcolor\":\"#E5ECF6\",\"gridcolor\":\"white\",\"linecolor\":\"white\",\"showbackground\":true,\"ticks\":\"\",\"zerolinecolor\":\"white\",\"gridwidth\":2},\"yaxis\":{\"backgroundcolor\":\"#E5ECF6\",\"gridcolor\":\"white\",\"linecolor\":\"white\",\"showbackground\":true,\"ticks\":\"\",\"zerolinecolor\":\"white\",\"gridwidth\":2},\"zaxis\":{\"backgroundcolor\":\"#E5ECF6\",\"gridcolor\":\"white\",\"linecolor\":\"white\",\"showbackground\":true,\"ticks\":\"\",\"zerolinecolor\":\"white\",\"gridwidth\":2}},\"shapedefaults\":{\"line\":{\"color\":\"#2a3f5f\"}},\"annotationdefaults\":{\"arrowcolor\":\"#2a3f5f\",\"arrowhead\":0,\"arrowwidth\":1},\"geo\":{\"bgcolor\":\"white\",\"landcolor\":\"#E5ECF6\",\"subunitcolor\":\"white\",\"showland\":true,\"showlakes\":true,\"lakecolor\":\"white\"},\"title\":{\"x\":0.05},\"mapbox\":{\"style\":\"light\"}}},\"xaxis\":{\"anchor\":\"y\",\"domain\":[0.0,1.0],\"title\":{\"text\":\"States\"}},\"yaxis\":{\"anchor\":\"x\",\"domain\":[0.0,1.0],\"title\":{\"text\":\"Registerd_Users\"}},\"legend\":{\"tracegroupgap\":0},\"title\":{\"text\":\" Top 10  => Registered Users\"},\"barmode\":\"relative\",\"height\":615,\"width\":600},                        {\"responsive\": true}                    ).then(function(){\n",
       "                            \n",
       "var gd = document.getElementById('b5115e5f-9575-400b-9817-f34c802373c8');\n",
       "var x = new MutationObserver(function (mutations, observer) {{\n",
       "        var display = window.getComputedStyle(gd).display;\n",
       "        if (!display || display === 'none') {{\n",
       "            console.log([gd, 'removed!']);\n",
       "            Plotly.purge(gd);\n",
       "            observer.disconnect();\n",
       "        }}\n",
       "}});\n",
       "\n",
       "// Listen for the removal of the full notebook cells\n",
       "var notebookContainer = gd.closest('#notebook-container');\n",
       "if (notebookContainer) {{\n",
       "    x.observe(notebookContainer, {childList: true});\n",
       "}}\n",
       "\n",
       "// Listen for the clearing of the current output cell\n",
       "var outputEl = gd.closest('.output');\n",
       "if (outputEl) {{\n",
       "    x.observe(outputEl, {childList: true});\n",
       "}}\n",
       "\n",
       "                        })                };                });            </script>        </div>"
      ]
     },
     "metadata": {},
     "output_type": "display_data"
    },
    {
     "data": {
      "application/vnd.plotly.v1+json": {
       "config": {
        "plotlyServerURL": "https://plot.ly"
       },
       "data": [
        {
         "alignmentgroup": "True",
         "hovertemplate": "<b>%{hovertext}</b><br><br>States=%{x}<br>Registerd_Users=%{y}<extra></extra>",
         "hovertext": [
          "Lakshadweep",
          "Andaman & Nicobar",
          "Mizoram",
          "Ladakh",
          "Meghalaya",
          "Nagaland",
          "Sikkim",
          "Arunachal Pradesh",
          "Manipur",
          "Tripura"
         ],
         "legendgroup": "",
         "marker": {
          "color": "rgb(150,0,90)",
          "pattern": {
           "shape": ""
          }
         },
         "name": "",
         "offsetgroup": "",
         "orientation": "v",
         "showlegend": false,
         "textposition": "auto",
         "type": "bar",
         "x": [
          "Lakshadweep",
          "Andaman & Nicobar",
          "Mizoram",
          "Ladakh",
          "Meghalaya",
          "Nagaland",
          "Sikkim",
          "Arunachal Pradesh",
          "Manipur",
          "Tripura"
         ],
         "xaxis": "x",
         "y": [
          110638,
          1202786,
          1353252,
          1623504,
          2367507,
          3109878,
          3164797,
          3493503,
          3762056,
          3992142
         ],
         "yaxis": "y"
        }
       ],
       "layout": {
        "barmode": "relative",
        "height": 615,
        "legend": {
         "tracegroupgap": 0
        },
        "template": {
         "data": {
          "bar": [
           {
            "error_x": {
             "color": "#2a3f5f"
            },
            "error_y": {
             "color": "#2a3f5f"
            },
            "marker": {
             "line": {
              "color": "#E5ECF6",
              "width": 0.5
             },
             "pattern": {
              "fillmode": "overlay",
              "size": 10,
              "solidity": 0.2
             }
            },
            "type": "bar"
           }
          ],
          "barpolar": [
           {
            "marker": {
             "line": {
              "color": "#E5ECF6",
              "width": 0.5
             },
             "pattern": {
              "fillmode": "overlay",
              "size": 10,
              "solidity": 0.2
             }
            },
            "type": "barpolar"
           }
          ],
          "carpet": [
           {
            "aaxis": {
             "endlinecolor": "#2a3f5f",
             "gridcolor": "white",
             "linecolor": "white",
             "minorgridcolor": "white",
             "startlinecolor": "#2a3f5f"
            },
            "baxis": {
             "endlinecolor": "#2a3f5f",
             "gridcolor": "white",
             "linecolor": "white",
             "minorgridcolor": "white",
             "startlinecolor": "#2a3f5f"
            },
            "type": "carpet"
           }
          ],
          "choropleth": [
           {
            "colorbar": {
             "outlinewidth": 0,
             "ticks": ""
            },
            "type": "choropleth"
           }
          ],
          "contour": [
           {
            "colorbar": {
             "outlinewidth": 0,
             "ticks": ""
            },
            "colorscale": [
             [
              0,
              "#0d0887"
             ],
             [
              0.1111111111111111,
              "#46039f"
             ],
             [
              0.2222222222222222,
              "#7201a8"
             ],
             [
              0.3333333333333333,
              "#9c179e"
             ],
             [
              0.4444444444444444,
              "#bd3786"
             ],
             [
              0.5555555555555556,
              "#d8576b"
             ],
             [
              0.6666666666666666,
              "#ed7953"
             ],
             [
              0.7777777777777778,
              "#fb9f3a"
             ],
             [
              0.8888888888888888,
              "#fdca26"
             ],
             [
              1,
              "#f0f921"
             ]
            ],
            "type": "contour"
           }
          ],
          "contourcarpet": [
           {
            "colorbar": {
             "outlinewidth": 0,
             "ticks": ""
            },
            "type": "contourcarpet"
           }
          ],
          "heatmap": [
           {
            "colorbar": {
             "outlinewidth": 0,
             "ticks": ""
            },
            "colorscale": [
             [
              0,
              "#0d0887"
             ],
             [
              0.1111111111111111,
              "#46039f"
             ],
             [
              0.2222222222222222,
              "#7201a8"
             ],
             [
              0.3333333333333333,
              "#9c179e"
             ],
             [
              0.4444444444444444,
              "#bd3786"
             ],
             [
              0.5555555555555556,
              "#d8576b"
             ],
             [
              0.6666666666666666,
              "#ed7953"
             ],
             [
              0.7777777777777778,
              "#fb9f3a"
             ],
             [
              0.8888888888888888,
              "#fdca26"
             ],
             [
              1,
              "#f0f921"
             ]
            ],
            "type": "heatmap"
           }
          ],
          "heatmapgl": [
           {
            "colorbar": {
             "outlinewidth": 0,
             "ticks": ""
            },
            "colorscale": [
             [
              0,
              "#0d0887"
             ],
             [
              0.1111111111111111,
              "#46039f"
             ],
             [
              0.2222222222222222,
              "#7201a8"
             ],
             [
              0.3333333333333333,
              "#9c179e"
             ],
             [
              0.4444444444444444,
              "#bd3786"
             ],
             [
              0.5555555555555556,
              "#d8576b"
             ],
             [
              0.6666666666666666,
              "#ed7953"
             ],
             [
              0.7777777777777778,
              "#fb9f3a"
             ],
             [
              0.8888888888888888,
              "#fdca26"
             ],
             [
              1,
              "#f0f921"
             ]
            ],
            "type": "heatmapgl"
           }
          ],
          "histogram": [
           {
            "marker": {
             "pattern": {
              "fillmode": "overlay",
              "size": 10,
              "solidity": 0.2
             }
            },
            "type": "histogram"
           }
          ],
          "histogram2d": [
           {
            "colorbar": {
             "outlinewidth": 0,
             "ticks": ""
            },
            "colorscale": [
             [
              0,
              "#0d0887"
             ],
             [
              0.1111111111111111,
              "#46039f"
             ],
             [
              0.2222222222222222,
              "#7201a8"
             ],
             [
              0.3333333333333333,
              "#9c179e"
             ],
             [
              0.4444444444444444,
              "#bd3786"
             ],
             [
              0.5555555555555556,
              "#d8576b"
             ],
             [
              0.6666666666666666,
              "#ed7953"
             ],
             [
              0.7777777777777778,
              "#fb9f3a"
             ],
             [
              0.8888888888888888,
              "#fdca26"
             ],
             [
              1,
              "#f0f921"
             ]
            ],
            "type": "histogram2d"
           }
          ],
          "histogram2dcontour": [
           {
            "colorbar": {
             "outlinewidth": 0,
             "ticks": ""
            },
            "colorscale": [
             [
              0,
              "#0d0887"
             ],
             [
              0.1111111111111111,
              "#46039f"
             ],
             [
              0.2222222222222222,
              "#7201a8"
             ],
             [
              0.3333333333333333,
              "#9c179e"
             ],
             [
              0.4444444444444444,
              "#bd3786"
             ],
             [
              0.5555555555555556,
              "#d8576b"
             ],
             [
              0.6666666666666666,
              "#ed7953"
             ],
             [
              0.7777777777777778,
              "#fb9f3a"
             ],
             [
              0.8888888888888888,
              "#fdca26"
             ],
             [
              1,
              "#f0f921"
             ]
            ],
            "type": "histogram2dcontour"
           }
          ],
          "mesh3d": [
           {
            "colorbar": {
             "outlinewidth": 0,
             "ticks": ""
            },
            "type": "mesh3d"
           }
          ],
          "parcoords": [
           {
            "line": {
             "colorbar": {
              "outlinewidth": 0,
              "ticks": ""
             }
            },
            "type": "parcoords"
           }
          ],
          "pie": [
           {
            "automargin": true,
            "type": "pie"
           }
          ],
          "scatter": [
           {
            "fillpattern": {
             "fillmode": "overlay",
             "size": 10,
             "solidity": 0.2
            },
            "type": "scatter"
           }
          ],
          "scatter3d": [
           {
            "line": {
             "colorbar": {
              "outlinewidth": 0,
              "ticks": ""
             }
            },
            "marker": {
             "colorbar": {
              "outlinewidth": 0,
              "ticks": ""
             }
            },
            "type": "scatter3d"
           }
          ],
          "scattercarpet": [
           {
            "marker": {
             "colorbar": {
              "outlinewidth": 0,
              "ticks": ""
             }
            },
            "type": "scattercarpet"
           }
          ],
          "scattergeo": [
           {
            "marker": {
             "colorbar": {
              "outlinewidth": 0,
              "ticks": ""
             }
            },
            "type": "scattergeo"
           }
          ],
          "scattergl": [
           {
            "marker": {
             "colorbar": {
              "outlinewidth": 0,
              "ticks": ""
             }
            },
            "type": "scattergl"
           }
          ],
          "scattermapbox": [
           {
            "marker": {
             "colorbar": {
              "outlinewidth": 0,
              "ticks": ""
             }
            },
            "type": "scattermapbox"
           }
          ],
          "scatterpolar": [
           {
            "marker": {
             "colorbar": {
              "outlinewidth": 0,
              "ticks": ""
             }
            },
            "type": "scatterpolar"
           }
          ],
          "scatterpolargl": [
           {
            "marker": {
             "colorbar": {
              "outlinewidth": 0,
              "ticks": ""
             }
            },
            "type": "scatterpolargl"
           }
          ],
          "scatterternary": [
           {
            "marker": {
             "colorbar": {
              "outlinewidth": 0,
              "ticks": ""
             }
            },
            "type": "scatterternary"
           }
          ],
          "surface": [
           {
            "colorbar": {
             "outlinewidth": 0,
             "ticks": ""
            },
            "colorscale": [
             [
              0,
              "#0d0887"
             ],
             [
              0.1111111111111111,
              "#46039f"
             ],
             [
              0.2222222222222222,
              "#7201a8"
             ],
             [
              0.3333333333333333,
              "#9c179e"
             ],
             [
              0.4444444444444444,
              "#bd3786"
             ],
             [
              0.5555555555555556,
              "#d8576b"
             ],
             [
              0.6666666666666666,
              "#ed7953"
             ],
             [
              0.7777777777777778,
              "#fb9f3a"
             ],
             [
              0.8888888888888888,
              "#fdca26"
             ],
             [
              1,
              "#f0f921"
             ]
            ],
            "type": "surface"
           }
          ],
          "table": [
           {
            "cells": {
             "fill": {
              "color": "#EBF0F8"
             },
             "line": {
              "color": "white"
             }
            },
            "header": {
             "fill": {
              "color": "#C8D4E3"
             },
             "line": {
              "color": "white"
             }
            },
            "type": "table"
           }
          ]
         },
         "layout": {
          "annotationdefaults": {
           "arrowcolor": "#2a3f5f",
           "arrowhead": 0,
           "arrowwidth": 1
          },
          "autotypenumbers": "strict",
          "coloraxis": {
           "colorbar": {
            "outlinewidth": 0,
            "ticks": ""
           }
          },
          "colorscale": {
           "diverging": [
            [
             0,
             "#8e0152"
            ],
            [
             0.1,
             "#c51b7d"
            ],
            [
             0.2,
             "#de77ae"
            ],
            [
             0.3,
             "#f1b6da"
            ],
            [
             0.4,
             "#fde0ef"
            ],
            [
             0.5,
             "#f7f7f7"
            ],
            [
             0.6,
             "#e6f5d0"
            ],
            [
             0.7,
             "#b8e186"
            ],
            [
             0.8,
             "#7fbc41"
            ],
            [
             0.9,
             "#4d9221"
            ],
            [
             1,
             "#276419"
            ]
           ],
           "sequential": [
            [
             0,
             "#0d0887"
            ],
            [
             0.1111111111111111,
             "#46039f"
            ],
            [
             0.2222222222222222,
             "#7201a8"
            ],
            [
             0.3333333333333333,
             "#9c179e"
            ],
            [
             0.4444444444444444,
             "#bd3786"
            ],
            [
             0.5555555555555556,
             "#d8576b"
            ],
            [
             0.6666666666666666,
             "#ed7953"
            ],
            [
             0.7777777777777778,
             "#fb9f3a"
            ],
            [
             0.8888888888888888,
             "#fdca26"
            ],
            [
             1,
             "#f0f921"
            ]
           ],
           "sequentialminus": [
            [
             0,
             "#0d0887"
            ],
            [
             0.1111111111111111,
             "#46039f"
            ],
            [
             0.2222222222222222,
             "#7201a8"
            ],
            [
             0.3333333333333333,
             "#9c179e"
            ],
            [
             0.4444444444444444,
             "#bd3786"
            ],
            [
             0.5555555555555556,
             "#d8576b"
            ],
            [
             0.6666666666666666,
             "#ed7953"
            ],
            [
             0.7777777777777778,
             "#fb9f3a"
            ],
            [
             0.8888888888888888,
             "#fdca26"
            ],
            [
             1,
             "#f0f921"
            ]
           ]
          },
          "colorway": [
           "#636efa",
           "#EF553B",
           "#00cc96",
           "#ab63fa",
           "#FFA15A",
           "#19d3f3",
           "#FF6692",
           "#B6E880",
           "#FF97FF",
           "#FECB52"
          ],
          "font": {
           "color": "#2a3f5f"
          },
          "geo": {
           "bgcolor": "white",
           "lakecolor": "white",
           "landcolor": "#E5ECF6",
           "showlakes": true,
           "showland": true,
           "subunitcolor": "white"
          },
          "hoverlabel": {
           "align": "left"
          },
          "hovermode": "closest",
          "mapbox": {
           "style": "light"
          },
          "paper_bgcolor": "white",
          "plot_bgcolor": "#E5ECF6",
          "polar": {
           "angularaxis": {
            "gridcolor": "white",
            "linecolor": "white",
            "ticks": ""
           },
           "bgcolor": "#E5ECF6",
           "radialaxis": {
            "gridcolor": "white",
            "linecolor": "white",
            "ticks": ""
           }
          },
          "scene": {
           "xaxis": {
            "backgroundcolor": "#E5ECF6",
            "gridcolor": "white",
            "gridwidth": 2,
            "linecolor": "white",
            "showbackground": true,
            "ticks": "",
            "zerolinecolor": "white"
           },
           "yaxis": {
            "backgroundcolor": "#E5ECF6",
            "gridcolor": "white",
            "gridwidth": 2,
            "linecolor": "white",
            "showbackground": true,
            "ticks": "",
            "zerolinecolor": "white"
           },
           "zaxis": {
            "backgroundcolor": "#E5ECF6",
            "gridcolor": "white",
            "gridwidth": 2,
            "linecolor": "white",
            "showbackground": true,
            "ticks": "",
            "zerolinecolor": "white"
           }
          },
          "shapedefaults": {
           "line": {
            "color": "#2a3f5f"
           }
          },
          "ternary": {
           "aaxis": {
            "gridcolor": "white",
            "linecolor": "white",
            "ticks": ""
           },
           "baxis": {
            "gridcolor": "white",
            "linecolor": "white",
            "ticks": ""
           },
           "bgcolor": "#E5ECF6",
           "caxis": {
            "gridcolor": "white",
            "linecolor": "white",
            "ticks": ""
           }
          },
          "title": {
           "x": 0.05
          },
          "xaxis": {
           "automargin": true,
           "gridcolor": "white",
           "linecolor": "white",
           "ticks": "",
           "title": {
            "standoff": 15
           },
           "zerolinecolor": "white",
           "zerolinewidth": 2
          },
          "yaxis": {
           "automargin": true,
           "gridcolor": "white",
           "linecolor": "white",
           "ticks": "",
           "title": {
            "standoff": 15
           },
           "zerolinecolor": "white",
           "zerolinewidth": 2
          }
         }
        },
        "title": {
         "text": "Least 10  =>  Registerd Users"
        },
        "width": 600,
        "xaxis": {
         "anchor": "y",
         "autorange": true,
         "domain": [
          0,
          1
         ],
         "range": [
          -0.5,
          9.5
         ],
         "title": {
          "text": "States"
         },
         "type": "category"
        },
        "yaxis": {
         "anchor": "x",
         "autorange": true,
         "domain": [
          0,
          1
         ],
         "range": [
          0,
          4202254.736842105
         ],
         "title": {
          "text": "Registerd_Users"
         },
         "type": "linear"
        }
       }
      },
      "image/png": "[encoded data removed]",
      "text/html": [
       "<div>                            <div id=\"b6438165-122d-412b-862b-82bdb4f64fc3\" class=\"plotly-graph-div\" style=\"height:615px; width:600px;\"></div>            <script type=\"text/javascript\">                require([\"plotly\"], function(Plotly) {                    window.PLOTLYENV=window.PLOTLYENV || {};                                    if (document.getElementById(\"b6438165-122d-412b-862b-82bdb4f64fc3\")) {                    Plotly.newPlot(                        \"b6438165-122d-412b-862b-82bdb4f64fc3\",                        [{\"alignmentgroup\":\"True\",\"hovertemplate\":\"<b>%{hovertext}</b><br><br>States=%{x}<br>Registerd_Users=%{y}<extra></extra>\",\"hovertext\":[\"Lakshadweep\",\"Andaman & Nicobar\",\"Mizoram\",\"Ladakh\",\"Meghalaya\",\"Nagaland\",\"Sikkim\",\"Arunachal Pradesh\",\"Manipur\",\"Tripura\"],\"legendgroup\":\"\",\"marker\":{\"color\":\"rgb(150,0,90)\",\"pattern\":{\"shape\":\"\"}},\"name\":\"\",\"offsetgroup\":\"\",\"orientation\":\"v\",\"showlegend\":false,\"textposition\":\"auto\",\"x\":[\"Lakshadweep\",\"Andaman & Nicobar\",\"Mizoram\",\"Ladakh\",\"Meghalaya\",\"Nagaland\",\"Sikkim\",\"Arunachal Pradesh\",\"Manipur\",\"Tripura\"],\"xaxis\":\"x\",\"y\":[110638.0,1202786.0,1353252.0,1623504.0,2367507.0,3109878.0,3164797.0,3493503.0,3762056.0,3992142.0],\"yaxis\":\"y\",\"type\":\"bar\"}],                        {\"template\":{\"data\":{\"histogram2dcontour\":[{\"type\":\"histogram2dcontour\",\"colorbar\":{\"outlinewidth\":0,\"ticks\":\"\"},\"colorscale\":[[0.0,\"#0d0887\"],[0.1111111111111111,\"#46039f\"],[0.2222222222222222,\"#7201a8\"],[0.3333333333333333,\"#9c179e\"],[0.4444444444444444,\"#bd3786\"],[0.5555555555555556,\"#d8576b\"],[0.6666666666666666,\"#ed7953\"],[0.7777777777777778,\"#fb9f3a\"],[0.8888888888888888,\"#fdca26\"],[1.0,\"#f0f921\"]]}],\"choropleth\":[{\"type\":\"choropleth\",\"colorbar\":{\"outlinewidth\":0,\"ticks\":\"\"}}],\"histogram2d\":[{\"type\":\"histogram2d\",\"colorbar\":{\"outlinewidth\":0,\"ticks\":\"\"},\"colorscale\":[[0.0,\"#0d0887\"],[0.1111111111111111,\"#46039f\"],[0.2222222222222222,\"#7201a8\"],[0.3333333333333333,\"#9c179e\"],[0.4444444444444444,\"#bd3786\"],[0.5555555555555556,\"#d8576b\"],[0.6666666666666666,\"#ed7953\"],[0.7777777777777778,\"#fb9f3a\"],[0.8888888888888888,\"#fdca26\"],[1.0,\"#f0f921\"]]}],\"heatmap\":[{\"type\":\"heatmap\",\"colorbar\":{\"outlinewidth\":0,\"ticks\":\"\"},\"colorscale\":[[0.0,\"#0d0887\"],[0.1111111111111111,\"#46039f\"],[0.2222222222222222,\"#7201a8\"],[0.3333333333333333,\"#9c179e\"],[0.4444444444444444,\"#bd3786\"],[0.5555555555555556,\"#d8576b\"],[0.6666666666666666,\"#ed7953\"],[0.7777777777777778,\"#fb9f3a\"],[0.8888888888888888,\"#fdca26\"],[1.0,\"#f0f921\"]]}],\"heatmapgl\":[{\"type\":\"heatmapgl\",\"colorbar\":{\"outlinewidth\":0,\"ticks\":\"\"},\"colorscale\":[[0.0,\"#0d0887\"],[0.1111111111111111,\"#46039f\"],[0.2222222222222222,\"#7201a8\"],[0.3333333333333333,\"#9c179e\"],[0.4444444444444444,\"#bd3786\"],[0.5555555555555556,\"#d8576b\"],[0.6666666666666666,\"#ed7953\"],[0.7777777777777778,\"#fb9f3a\"],[0.8888888888888888,\"#fdca26\"],[1.0,\"#f0f921\"]]}],\"contourcarpet\":[{\"type\":\"contourcarpet\",\"colorbar\":{\"outlinewidth\":0,\"ticks\":\"\"}}],\"contour\":[{\"type\":\"contour\",\"colorbar\":{\"outlinewidth\":0,\"ticks\":\"\"},\"colorscale\":[[0.0,\"#0d0887\"],[0.1111111111111111,\"#46039f\"],[0.2222222222222222,\"#7201a8\"],[0.3333333333333333,\"#9c179e\"],[0.4444444444444444,\"#bd3786\"],[0.5555555555555556,\"#d8576b\"],[0.6666666666666666,\"#ed7953\"],[0.7777777777777778,\"#fb9f3a\"],[0.8888888888888888,\"#fdca26\"],[1.0,\"#f0f921\"]]}],\"surface\":[{\"type\":\"surface\",\"colorbar\":{\"outlinewidth\":0,\"ticks\":\"\"},\"colorscale\":[[0.0,\"#0d0887\"],[0.1111111111111111,\"#46039f\"],[0.2222222222222222,\"#7201a8\"],[0.3333333333333333,\"#9c179e\"],[0.4444444444444444,\"#bd3786\"],[0.5555555555555556,\"#d8576b\"],[0.6666666666666666,\"#ed7953\"],[0.7777777777777778,\"#fb9f3a\"],[0.8888888888888888,\"#fdca26\"],[1.0,\"#f0f921\"]]}],\"mesh3d\":[{\"type\":\"mesh3d\",\"colorbar\":{\"outlinewidth\":0,\"ticks\":\"\"}}],\"scatter\":[{\"fillpattern\":{\"fillmode\":\"overlay\",\"size\":10,\"solidity\":0.2},\"type\":\"scatter\"}],\"parcoords\":[{\"type\":\"parcoords\",\"line\":{\"colorbar\":{\"outlinewidth\":0,\"ticks\":\"\"}}}],\"scatterpolargl\":[{\"type\":\"scatterpolargl\",\"marker\":{\"colorbar\":{\"outlinewidth\":0,\"ticks\":\"\"}}}],\"bar\":[{\"error_x\":{\"color\":\"#2a3f5f\"},\"error_y\":{\"color\":\"#2a3f5f\"},\"marker\":{\"line\":{\"color\":\"#E5ECF6\",\"width\":0.5},\"pattern\":{\"fillmode\":\"overlay\",\"size\":10,\"solidity\":0.2}},\"type\":\"bar\"}],\"scattergeo\":[{\"type\":\"scattergeo\",\"marker\":{\"colorbar\":{\"outlinewidth\":0,\"ticks\":\"\"}}}],\"scatterpolar\":[{\"type\":\"scatterpolar\",\"marker\":{\"colorbar\":{\"outlinewidth\":0,\"ticks\":\"\"}}}],\"histogram\":[{\"marker\":{\"pattern\":{\"fillmode\":\"overlay\",\"size\":10,\"solidity\":0.2}},\"type\":\"histogram\"}],\"scattergl\":[{\"type\":\"scattergl\",\"marker\":{\"colorbar\":{\"outlinewidth\":0,\"ticks\":\"\"}}}],\"scatter3d\":[{\"type\":\"scatter3d\",\"line\":{\"colorbar\":{\"outlinewidth\":0,\"ticks\":\"\"}},\"marker\":{\"colorbar\":{\"outlinewidth\":0,\"ticks\":\"\"}}}],\"scattermapbox\":[{\"type\":\"scattermapbox\",\"marker\":{\"colorbar\":{\"outlinewidth\":0,\"ticks\":\"\"}}}],\"scatterternary\":[{\"type\":\"scatterternary\",\"marker\":{\"colorbar\":{\"outlinewidth\":0,\"ticks\":\"\"}}}],\"scattercarpet\":[{\"type\":\"scattercarpet\",\"marker\":{\"colorbar\":{\"outlinewidth\":0,\"ticks\":\"\"}}}],\"carpet\":[{\"aaxis\":{\"endlinecolor\":\"#2a3f5f\",\"gridcolor\":\"white\",\"linecolor\":\"white\",\"minorgridcolor\":\"white\",\"startlinecolor\":\"#2a3f5f\"},\"baxis\":{\"endlinecolor\":\"#2a3f5f\",\"gridcolor\":\"white\",\"linecolor\":\"white\",\"minorgridcolor\":\"white\",\"startlinecolor\":\"#2a3f5f\"},\"type\":\"carpet\"}],\"table\":[{\"cells\":{\"fill\":{\"color\":\"#EBF0F8\"},\"line\":{\"color\":\"white\"}},\"header\":{\"fill\":{\"color\":\"#C8D4E3\"},\"line\":{\"color\":\"white\"}},\"type\":\"table\"}],\"barpolar\":[{\"marker\":{\"line\":{\"color\":\"#E5ECF6\",\"width\":0.5},\"pattern\":{\"fillmode\":\"overlay\",\"size\":10,\"solidity\":0.2}},\"type\":\"barpolar\"}],\"pie\":[{\"automargin\":true,\"type\":\"pie\"}]},\"layout\":{\"autotypenumbers\":\"strict\",\"colorway\":[\"#636efa\",\"#EF553B\",\"#00cc96\",\"#ab63fa\",\"#FFA15A\",\"#19d3f3\",\"#FF6692\",\"#B6E880\",\"#FF97FF\",\"#FECB52\"],\"font\":{\"color\":\"#2a3f5f\"},\"hovermode\":\"closest\",\"hoverlabel\":{\"align\":\"left\"},\"paper_bgcolor\":\"white\",\"plot_bgcolor\":\"#E5ECF6\",\"polar\":{\"bgcolor\":\"#E5ECF6\",\"angularaxis\":{\"gridcolor\":\"white\",\"linecolor\":\"white\",\"ticks\":\"\"},\"radialaxis\":{\"gridcolor\":\"white\",\"linecolor\":\"white\",\"ticks\":\"\"}},\"ternary\":{\"bgcolor\":\"#E5ECF6\",\"aaxis\":{\"gridcolor\":\"white\",\"linecolor\":\"white\",\"ticks\":\"\"},\"baxis\":{\"gridcolor\":\"white\",\"linecolor\":\"white\",\"ticks\":\"\"},\"caxis\":{\"gridcolor\":\"white\",\"linecolor\":\"white\",\"ticks\":\"\"}},\"coloraxis\":{\"colorbar\":{\"outlinewidth\":0,\"ticks\":\"\"}},\"colorscale\":{\"sequential\":[[0.0,\"#0d0887\"],[0.1111111111111111,\"#46039f\"],[0.2222222222222222,\"#7201a8\"],[0.3333333333333333,\"#9c179e\"],[0.4444444444444444,\"#bd3786\"],[0.5555555555555556,\"#d8576b\"],[0.6666666666666666,\"#ed7953\"],[0.7777777777777778,\"#fb9f3a\"],[0.8888888888888888,\"#fdca26\"],[1.0,\"#f0f921\"]],\"sequentialminus\":[[0.0,\"#0d0887\"],[0.1111111111111111,\"#46039f\"],[0.2222222222222222,\"#7201a8\"],[0.3333333333333333,\"#9c179e\"],[0.4444444444444444,\"#bd3786\"],[0.5555555555555556,\"#d8576b\"],[0.6666666666666666,\"#ed7953\"],[0.7777777777777778,\"#fb9f3a\"],[0.8888888888888888,\"#fdca26\"],[1.0,\"#f0f921\"]],\"diverging\":[[0,\"#8e0152\"],[0.1,\"#c51b7d\"],[0.2,\"#de77ae\"],[0.3,\"#f1b6da\"],[0.4,\"#fde0ef\"],[0.5,\"#f7f7f7\"],[0.6,\"#e6f5d0\"],[0.7,\"#b8e186\"],[0.8,\"#7fbc41\"],[0.9,\"#4d9221\"],[1,\"#276419\"]]},\"xaxis\":{\"gridcolor\":\"white\",\"linecolor\":\"white\",\"ticks\":\"\",\"title\":{\"standoff\":15},\"zerolinecolor\":\"white\",\"automargin\":true,\"zerolinewidth\":2},\"yaxis\":{\"gridcolor\":\"white\",\"linecolor\":\"white\",\"ticks\":\"\",\"title\":{\"standoff\":15},\"zerolinecolor\":\"white\",\"automargin\":true,\"zerolinewidth\":2},\"scene\":{\"xaxis\":{\"backgroundcolor\":\"#E5ECF6\",\"gridcolor\":\"white\",\"linecolor\":\"white\",\"showbackground\":true,\"ticks\":\"\",\"zerolinecolor\":\"white\",\"gridwidth\":2},\"yaxis\":{\"backgroundcolor\":\"#E5ECF6\",\"gridcolor\":\"white\",\"linecolor\":\"white\",\"showbackground\":true,\"ticks\":\"\",\"zerolinecolor\":\"white\",\"gridwidth\":2},\"zaxis\":{\"backgroundcolor\":\"#E5ECF6\",\"gridcolor\":\"white\",\"linecolor\":\"white\",\"showbackground\":true,\"ticks\":\"\",\"zerolinecolor\":\"white\",\"gridwidth\":2}},\"shapedefaults\":{\"line\":{\"color\":\"#2a3f5f\"}},\"annotationdefaults\":{\"arrowcolor\":\"#2a3f5f\",\"arrowhead\":0,\"arrowwidth\":1},\"geo\":{\"bgcolor\":\"white\",\"landcolor\":\"#E5ECF6\",\"subunitcolor\":\"white\",\"showland\":true,\"showlakes\":true,\"lakecolor\":\"white\"},\"title\":{\"x\":0.05},\"mapbox\":{\"style\":\"light\"}}},\"xaxis\":{\"anchor\":\"y\",\"domain\":[0.0,1.0],\"title\":{\"text\":\"States\"}},\"yaxis\":{\"anchor\":\"x\",\"domain\":[0.0,1.0],\"title\":{\"text\":\"Registerd_Users\"}},\"legend\":{\"tracegroupgap\":0},\"title\":{\"text\":\"Least 10  =>  Registerd Users\"},\"barmode\":\"relative\",\"height\":615,\"width\":600},                        {\"responsive\": true}                    ).then(function(){\n",
       "                            \n",
       "var gd = document.getElementById('b6438165-122d-412b-862b-82bdb4f64fc3');\n",
       "var x = new MutationObserver(function (mutations, observer) {{\n",
       "        var display = window.getComputedStyle(gd).display;\n",
       "        if (!display || display === 'none') {{\n",
       "            console.log([gd, 'removed!']);\n",
       "            Plotly.purge(gd);\n",
       "            observer.disconnect();\n",
       "        }}\n",
       "}});\n",
       "\n",
       "// Listen for the removal of the full notebook cells\n",
       "var notebookContainer = gd.closest('#notebook-container');\n",
       "if (notebookContainer) {{\n",
       "    x.observe(notebookContainer, {childList: true});\n",
       "}}\n",
       "\n",
       "// Listen for the clearing of the current output cell\n",
       "var outputEl = gd.closest('.output');\n",
       "if (outputEl) {{\n",
       "    x.observe(outputEl, {childList: true});\n",
       "}}\n",
       "\n",
       "                        })                };                });            </script>        </div>"
      ]
     },
     "metadata": {},
     "output_type": "display_data"
    },
    {
     "data": {
      "application/vnd.plotly.v1+json": {
       "config": {
        "plotlyServerURL": "https://plot.ly"
       },
       "data": [
        {
         "alignmentgroup": "True",
         "hovertemplate": "<b>%{hovertext}</b><br><br>Registerd_Users=%{x}<br>States=%{y}<extra></extra>",
         "hovertext": [
          "Lakshadweep",
          "Andaman & Nicobar",
          "Mizoram",
          "Ladakh",
          "Meghalaya",
          "Nagaland",
          "Sikkim",
          "Arunachal Pradesh",
          "Manipur",
          "Tripura",
          "Jammu & Kashmir",
          "Puducherry",
          "Goa",
          "Kerala",
          "Assam",
          "Chandigarh",
          "Dadra And Nagar Haveli And Daman And Diu",
          "Himachal Pradesh",
          "Odisha",
          "West Bengal",
          "Jharkhand",
          "Chhattisgarh",
          "Tamil Nadu",
          "Uttarakhand",
          "Punjab",
          "Andhra Pradesh",
          "Bihar",
          "Madhya Pradesh",
          "Gujarat",
          "Rajasthan",
          "Telangana",
          "Haryana",
          "Maharashtra",
          "Uttar Pradesh",
          "Karnataka",
          "Delhi"
         ],
         "legendgroup": "",
         "marker": {
          "color": "rgb(255,0,0)",
          "pattern": {
           "shape": ""
          }
         },
         "name": "",
         "offsetgroup": "",
         "orientation": "h",
         "showlegend": false,
         "textposition": "auto",
         "type": "bar",
         "x": [
          553.19,
          4811.144,
          5413.008,
          6494.016,
          9470.028,
          12439.512,
          12659.188,
          13974.012,
          15048.224,
          15968.568,
          20276.716,
          22565.764,
          24018.436,
          27705.416,
          31243.164,
          32556.392,
          36298.2489,
          38428.828,
          77419.772,
          79402.7,
          90872.796,
          97845.612,
          99977.688,
          103902.48,
          113547.332,
          142412.008,
          145249.676,
          157687.012,
          165375.14,
          199952.984,
          217708.404,
          227583.42,
          265104.988,
          265137.364,
          275988.772,
          298198.212
         ],
         "xaxis": "x",
         "y": [
          "Lakshadweep",
          "Andaman & Nicobar",
          "Mizoram",
          "Ladakh",
          "Meghalaya",
          "Nagaland",
          "Sikkim",
          "Arunachal Pradesh",
          "Manipur",
          "Tripura",
          "Jammu & Kashmir",
          "Puducherry",
          "Goa",
          "Kerala",
          "Assam",
          "Chandigarh",
          "Dadra And Nagar Haveli And Daman And Diu",
          "Himachal Pradesh",
          "Odisha",
          "West Bengal",
          "Jharkhand",
          "Chhattisgarh",
          "Tamil Nadu",
          "Uttarakhand",
          "Punjab",
          "Andhra Pradesh",
          "Bihar",
          "Madhya Pradesh",
          "Gujarat",
          "Rajasthan",
          "Telangana",
          "Haryana",
          "Maharashtra",
          "Uttar Pradesh",
          "Karnataka",
          "Delhi"
         ],
         "yaxis": "y"
        }
       ],
       "layout": {
        "barmode": "relative",
        "height": 800,
        "legend": {
         "tracegroupgap": 0
        },
        "template": {
         "data": {
          "bar": [
           {
            "error_x": {
             "color": "#2a3f5f"
            },
            "error_y": {
             "color": "#2a3f5f"
            },
            "marker": {
             "line": {
              "color": "#E5ECF6",
              "width": 0.5
             },
             "pattern": {
              "fillmode": "overlay",
              "size": 10,
              "solidity": 0.2
             }
            },
            "type": "bar"
           }
          ],
          "barpolar": [
           {
            "marker": {
             "line": {
              "color": "#E5ECF6",
              "width": 0.5
             },
             "pattern": {
              "fillmode": "overlay",
              "size": 10,
              "solidity": 0.2
             }
            },
            "type": "barpolar"
           }
          ],
          "carpet": [
           {
            "aaxis": {
             "endlinecolor": "#2a3f5f",
             "gridcolor": "white",
             "linecolor": "white",
             "minorgridcolor": "white",
             "startlinecolor": "#2a3f5f"
            },
            "baxis": {
             "endlinecolor": "#2a3f5f",
             "gridcolor": "white",
             "linecolor": "white",
             "minorgridcolor": "white",
             "startlinecolor": "#2a3f5f"
            },
            "type": "carpet"
           }
          ],
          "choropleth": [
           {
            "colorbar": {
             "outlinewidth": 0,
             "ticks": ""
            },
            "type": "choropleth"
           }
          ],
          "contour": [
           {
            "colorbar": {
             "outlinewidth": 0,
             "ticks": ""
            },
            "colorscale": [
             [
              0,
              "#0d0887"
             ],
             [
              0.1111111111111111,
              "#46039f"
             ],
             [
              0.2222222222222222,
              "#7201a8"
             ],
             [
              0.3333333333333333,
              "#9c179e"
             ],
             [
              0.4444444444444444,
              "#bd3786"
             ],
             [
              0.5555555555555556,
              "#d8576b"
             ],
             [
              0.6666666666666666,
              "#ed7953"
             ],
             [
              0.7777777777777778,
              "#fb9f3a"
             ],
             [
              0.8888888888888888,
              "#fdca26"
             ],
             [
              1,
              "#f0f921"
             ]
            ],
            "type": "contour"
           }
          ],
          "contourcarpet": [
           {
            "colorbar": {
             "outlinewidth": 0,
             "ticks": ""
            },
            "type": "contourcarpet"
           }
          ],
          "heatmap": [
           {
            "colorbar": {
             "outlinewidth": 0,
             "ticks": ""
            },
            "colorscale": [
             [
              0,
              "#0d0887"
             ],
             [
              0.1111111111111111,
              "#46039f"
             ],
             [
              0.2222222222222222,
              "#7201a8"
             ],
             [
              0.3333333333333333,
              "#9c179e"
             ],
             [
              0.4444444444444444,
              "#bd3786"
             ],
             [
              0.5555555555555556,
              "#d8576b"
             ],
             [
              0.6666666666666666,
              "#ed7953"
             ],
             [
              0.7777777777777778,
              "#fb9f3a"
             ],
             [
              0.8888888888888888,
              "#fdca26"
             ],
             [
              1,
              "#f0f921"
             ]
            ],
            "type": "heatmap"
           }
          ],
          "heatmapgl": [
           {
            "colorbar": {
             "outlinewidth": 0,
             "ticks": ""
            },
            "colorscale": [
             [
              0,
              "#0d0887"
             ],
             [
              0.1111111111111111,
              "#46039f"
             ],
             [
              0.2222222222222222,
              "#7201a8"
             ],
             [
              0.3333333333333333,
              "#9c179e"
             ],
             [
              0.4444444444444444,
              "#bd3786"
             ],
             [
              0.5555555555555556,
              "#d8576b"
             ],
             [
              0.6666666666666666,
              "#ed7953"
             ],
             [
              0.7777777777777778,
              "#fb9f3a"
             ],
             [
              0.8888888888888888,
              "#fdca26"
             ],
             [
              1,
              "#f0f921"
             ]
            ],
            "type": "heatmapgl"
           }
          ],
          "histogram": [
           {
            "marker": {
             "pattern": {
              "fillmode": "overlay",
              "size": 10,
              "solidity": 0.2
             }
            },
            "type": "histogram"
           }
          ],
          "histogram2d": [
           {
            "colorbar": {
             "outlinewidth": 0,
             "ticks": ""
            },
            "colorscale": [
             [
              0,
              "#0d0887"
             ],
             [
              0.1111111111111111,
              "#46039f"
             ],
             [
              0.2222222222222222,
              "#7201a8"
             ],
             [
              0.3333333333333333,
              "#9c179e"
             ],
             [
              0.4444444444444444,
              "#bd3786"
             ],
             [
              0.5555555555555556,
              "#d8576b"
             ],
             [
              0.6666666666666666,
              "#ed7953"
             ],
             [
              0.7777777777777778,
              "#fb9f3a"
             ],
             [
              0.8888888888888888,
              "#fdca26"
             ],
             [
              1,
              "#f0f921"
             ]
            ],
            "type": "histogram2d"
           }
          ],
          "histogram2dcontour": [
           {
            "colorbar": {
             "outlinewidth": 0,
             "ticks": ""
            },
            "colorscale": [
             [
              0,
              "#0d0887"
             ],
             [
              0.1111111111111111,
              "#46039f"
             ],
             [
              0.2222222222222222,
              "#7201a8"
             ],
             [
              0.3333333333333333,
              "#9c179e"
             ],
             [
              0.4444444444444444,
              "#bd3786"
             ],
             [
              0.5555555555555556,
              "#d8576b"
             ],
             [
              0.6666666666666666,
              "#ed7953"
             ],
             [
              0.7777777777777778,
              "#fb9f3a"
             ],
             [
              0.8888888888888888,
              "#fdca26"
             ],
             [
              1,
              "#f0f921"
             ]
            ],
            "type": "histogram2dcontour"
           }
          ],
          "mesh3d": [
           {
            "colorbar": {
             "outlinewidth": 0,
             "ticks": ""
            },
            "type": "mesh3d"
           }
          ],
          "parcoords": [
           {
            "line": {
             "colorbar": {
              "outlinewidth": 0,
              "ticks": ""
             }
            },
            "type": "parcoords"
           }
          ],
          "pie": [
           {
            "automargin": true,
            "type": "pie"
           }
          ],
          "scatter": [
           {
            "fillpattern": {
             "fillmode": "overlay",
             "size": 10,
             "solidity": 0.2
            },
            "type": "scatter"
           }
          ],
          "scatter3d": [
           {
            "line": {
             "colorbar": {
              "outlinewidth": 0,
              "ticks": ""
             }
            },
            "marker": {
             "colorbar": {
              "outlinewidth": 0,
              "ticks": ""
             }
            },
            "type": "scatter3d"
           }
          ],
          "scattercarpet": [
           {
            "marker": {
             "colorbar": {
              "outlinewidth": 0,
              "ticks": ""
             }
            },
            "type": "scattercarpet"
           }
          ],
          "scattergeo": [
           {
            "marker": {
             "colorbar": {
              "outlinewidth": 0,
              "ticks": ""
             }
            },
            "type": "scattergeo"
           }
          ],
          "scattergl": [
           {
            "marker": {
             "colorbar": {
              "outlinewidth": 0,
              "ticks": ""
             }
            },
            "type": "scattergl"
           }
          ],
          "scattermapbox": [
           {
            "marker": {
             "colorbar": {
              "outlinewidth": 0,
              "ticks": ""
             }
            },
            "type": "scattermapbox"
           }
          ],
          "scatterpolar": [
           {
            "marker": {
             "colorbar": {
              "outlinewidth": 0,
              "ticks": ""
             }
            },
            "type": "scatterpolar"
           }
          ],
          "scatterpolargl": [
           {
            "marker": {
             "colorbar": {
              "outlinewidth": 0,
              "ticks": ""
             }
            },
            "type": "scatterpolargl"
           }
          ],
          "scatterternary": [
           {
            "marker": {
             "colorbar": {
              "outlinewidth": 0,
              "ticks": ""
             }
            },
            "type": "scatterternary"
           }
          ],
          "surface": [
           {
            "colorbar": {
             "outlinewidth": 0,
             "ticks": ""
            },
            "colorscale": [
             [
              0,
              "#0d0887"
             ],
             [
              0.1111111111111111,
              "#46039f"
             ],
             [
              0.2222222222222222,
              "#7201a8"
             ],
             [
              0.3333333333333333,
              "#9c179e"
             ],
             [
              0.4444444444444444,
              "#bd3786"
             ],
             [
              0.5555555555555556,
              "#d8576b"
             ],
             [
              0.6666666666666666,
              "#ed7953"
             ],
             [
              0.7777777777777778,
              "#fb9f3a"
             ],
             [
              0.8888888888888888,
              "#fdca26"
             ],
             [
              1,
              "#f0f921"
             ]
            ],
            "type": "surface"
           }
          ],
          "table": [
           {
            "cells": {
             "fill": {
              "color": "#EBF0F8"
             },
             "line": {
              "color": "white"
             }
            },
            "header": {
             "fill": {
              "color": "#C8D4E3"
             },
             "line": {
              "color": "white"
             }
            },
            "type": "table"
           }
          ]
         },
         "layout": {
          "annotationdefaults": {
           "arrowcolor": "#2a3f5f",
           "arrowhead": 0,
           "arrowwidth": 1
          },
          "autotypenumbers": "strict",
          "coloraxis": {
           "colorbar": {
            "outlinewidth": 0,
            "ticks": ""
           }
          },
          "colorscale": {
           "diverging": [
            [
             0,
             "#8e0152"
            ],
            [
             0.1,
             "#c51b7d"
            ],
            [
             0.2,
             "#de77ae"
            ],
            [
             0.3,
             "#f1b6da"
            ],
            [
             0.4,
             "#fde0ef"
            ],
            [
             0.5,
             "#f7f7f7"
            ],
            [
             0.6,
             "#e6f5d0"
            ],
            [
             0.7,
             "#b8e186"
            ],
            [
             0.8,
             "#7fbc41"
            ],
            [
             0.9,
             "#4d9221"
            ],
            [
             1,
             "#276419"
            ]
           ],
           "sequential": [
            [
             0,
             "#0d0887"
            ],
            [
             0.1111111111111111,
             "#46039f"
            ],
            [
             0.2222222222222222,
             "#7201a8"
            ],
            [
             0.3333333333333333,
             "#9c179e"
            ],
            [
             0.4444444444444444,
             "#bd3786"
            ],
            [
             0.5555555555555556,
             "#d8576b"
            ],
            [
             0.6666666666666666,
             "#ed7953"
            ],
            [
             0.7777777777777778,
             "#fb9f3a"
            ],
            [
             0.8888888888888888,
             "#fdca26"
            ],
            [
             1,
             "#f0f921"
            ]
           ],
           "sequentialminus": [
            [
             0,
             "#0d0887"
            ],
            [
             0.1111111111111111,
             "#46039f"
            ],
            [
             0.2222222222222222,
             "#7201a8"
            ],
            [
             0.3333333333333333,
             "#9c179e"
            ],
            [
             0.4444444444444444,
             "#bd3786"
            ],
            [
             0.5555555555555556,
             "#d8576b"
            ],
            [
             0.6666666666666666,
             "#ed7953"
            ],
            [
             0.7777777777777778,
             "#fb9f3a"
            ],
            [
             0.8888888888888888,
             "#fdca26"
            ],
            [
             1,
             "#f0f921"
            ]
           ]
          },
          "colorway": [
           "#636efa",
           "#EF553B",
           "#00cc96",
           "#ab63fa",
           "#FFA15A",
           "#19d3f3",
           "#FF6692",
           "#B6E880",
           "#FF97FF",
           "#FECB52"
          ],
          "font": {
           "color": "#2a3f5f"
          },
          "geo": {
           "bgcolor": "white",
           "lakecolor": "white",
           "landcolor": "#E5ECF6",
           "showlakes": true,
           "showland": true,
           "subunitcolor": "white"
          },
          "hoverlabel": {
           "align": "left"
          },
          "hovermode": "closest",
          "mapbox": {
           "style": "light"
          },
          "paper_bgcolor": "white",
          "plot_bgcolor": "#E5ECF6",
          "polar": {
           "angularaxis": {
            "gridcolor": "white",
            "linecolor": "white",
            "ticks": ""
           },
           "bgcolor": "#E5ECF6",
           "radialaxis": {
            "gridcolor": "white",
            "linecolor": "white",
            "ticks": ""
           }
          },
          "scene": {
           "xaxis": {
            "backgroundcolor": "#E5ECF6",
            "gridcolor": "white",
            "gridwidth": 2,
            "linecolor": "white",
            "showbackground": true,
            "ticks": "",
            "zerolinecolor": "white"
           },
           "yaxis": {
            "backgroundcolor": "#E5ECF6",
            "gridcolor": "white",
            "gridwidth": 2,
            "linecolor": "white",
            "showbackground": true,
            "ticks": "",
            "zerolinecolor": "white"
           },
           "zaxis": {
            "backgroundcolor": "#E5ECF6",
            "gridcolor": "white",
            "gridwidth": 2,
            "linecolor": "white",
            "showbackground": true,
            "ticks": "",
            "zerolinecolor": "white"
           }
          },
          "shapedefaults": {
           "line": {
            "color": "#2a3f5f"
           }
          },
          "ternary": {
           "aaxis": {
            "gridcolor": "white",
            "linecolor": "white",
            "ticks": ""
           },
           "baxis": {
            "gridcolor": "white",
            "linecolor": "white",
            "ticks": ""
           },
           "bgcolor": "#E5ECF6",
           "caxis": {
            "gridcolor": "white",
            "linecolor": "white",
            "ticks": ""
           }
          },
          "title": {
           "x": 0.05
          },
          "xaxis": {
           "automargin": true,
           "gridcolor": "white",
           "linecolor": "white",
           "ticks": "",
           "title": {
            "standoff": 15
           },
           "zerolinecolor": "white",
           "zerolinewidth": 2
          },
          "yaxis": {
           "automargin": true,
           "gridcolor": "white",
           "linecolor": "white",
           "ticks": "",
           "title": {
            "standoff": 15
           },
           "zerolinecolor": "white",
           "zerolinewidth": 2
          }
         }
        },
        "title": {
         "text": "Average Of Registerd Users"
        },
        "width": 1000,
        "xaxis": {
         "anchor": "y",
         "autorange": true,
         "domain": [
          0,
          1
         ],
         "range": [
          0,
          313892.8547368421
         ],
         "title": {
          "text": "Registerd_Users"
         },
         "type": "linear"
        },
        "yaxis": {
         "anchor": "x",
         "autorange": true,
         "domain": [
          0,
          1
         ],
         "range": [
          -0.5,
          35.5
         ],
         "title": {
          "text": "States"
         },
         "type": "category"
        }
       }
      },
      "image/png": "[encoded data removed]",
      "text/html": [
       "<div>                            <div id=\"8a8633ed-4438-4cc4-988f-bf40fb2a929a\" class=\"plotly-graph-div\" style=\"height:800px; width:1000px;\"></div>            <script type=\"text/javascript\">                require([\"plotly\"], function(Plotly) {                    window.PLOTLYENV=window.PLOTLYENV || {};                                    if (document.getElementById(\"8a8633ed-4438-4cc4-988f-bf40fb2a929a\")) {                    Plotly.newPlot(                        \"8a8633ed-4438-4cc4-988f-bf40fb2a929a\",                        [{\"alignmentgroup\":\"True\",\"hovertemplate\":\"<b>%{hovertext}</b><br><br>Registerd_Users=%{x}<br>States=%{y}<extra></extra>\",\"hovertext\":[\"Lakshadweep\",\"Andaman & Nicobar\",\"Mizoram\",\"Ladakh\",\"Meghalaya\",\"Nagaland\",\"Sikkim\",\"Arunachal Pradesh\",\"Manipur\",\"Tripura\",\"Jammu & Kashmir\",\"Puducherry\",\"Goa\",\"Kerala\",\"Assam\",\"Chandigarh\",\"Dadra And Nagar Haveli And Daman And Diu\",\"Himachal Pradesh\",\"Odisha\",\"West Bengal\",\"Jharkhand\",\"Chhattisgarh\",\"Tamil Nadu\",\"Uttarakhand\",\"Punjab\",\"Andhra Pradesh\",\"Bihar\",\"Madhya Pradesh\",\"Gujarat\",\"Rajasthan\",\"Telangana\",\"Haryana\",\"Maharashtra\",\"Uttar Pradesh\",\"Karnataka\",\"Delhi\"],\"legendgroup\":\"\",\"marker\":{\"color\":\"rgb(255,0,0)\",\"pattern\":{\"shape\":\"\"}},\"name\":\"\",\"offsetgroup\":\"\",\"orientation\":\"h\",\"showlegend\":false,\"textposition\":\"auto\",\"x\":[553.19,4811.144,5413.008,6494.016,9470.028,12439.512,12659.188,13974.012,15048.224,15968.568,20276.716,22565.764,24018.436,27705.416,31243.164,32556.392,36298.2489,38428.828,77419.772,79402.7,90872.796,97845.612,99977.688,103902.48,113547.332,142412.008,145249.676,157687.012,165375.14,199952.984,217708.404,227583.42,265104.988,265137.364,275988.772,298198.212],\"xaxis\":\"x\",\"y\":[\"Lakshadweep\",\"Andaman & Nicobar\",\"Mizoram\",\"Ladakh\",\"Meghalaya\",\"Nagaland\",\"Sikkim\",\"Arunachal Pradesh\",\"Manipur\",\"Tripura\",\"Jammu & Kashmir\",\"Puducherry\",\"Goa\",\"Kerala\",\"Assam\",\"Chandigarh\",\"Dadra And Nagar Haveli And Daman And Diu\",\"Himachal Pradesh\",\"Odisha\",\"West Bengal\",\"Jharkhand\",\"Chhattisgarh\",\"Tamil Nadu\",\"Uttarakhand\",\"Punjab\",\"Andhra Pradesh\",\"Bihar\",\"Madhya Pradesh\",\"Gujarat\",\"Rajasthan\",\"Telangana\",\"Haryana\",\"Maharashtra\",\"Uttar Pradesh\",\"Karnataka\",\"Delhi\"],\"yaxis\":\"y\",\"type\":\"bar\"}],                        {\"template\":{\"data\":{\"histogram2dcontour\":[{\"type\":\"histogram2dcontour\",\"colorbar\":{\"outlinewidth\":0,\"ticks\":\"\"},\"colorscale\":[[0.0,\"#0d0887\"],[0.1111111111111111,\"#46039f\"],[0.2222222222222222,\"#7201a8\"],[0.3333333333333333,\"#9c179e\"],[0.4444444444444444,\"#bd3786\"],[0.5555555555555556,\"#d8576b\"],[0.6666666666666666,\"#ed7953\"],[0.7777777777777778,\"#fb9f3a\"],[0.8888888888888888,\"#fdca26\"],[1.0,\"#f0f921\"]]}],\"choropleth\":[{\"type\":\"choropleth\",\"colorbar\":{\"outlinewidth\":0,\"ticks\":\"\"}}],\"histogram2d\":[{\"type\":\"histogram2d\",\"colorbar\":{\"outlinewidth\":0,\"ticks\":\"\"},\"colorscale\":[[0.0,\"#0d0887\"],[0.1111111111111111,\"#46039f\"],[0.2222222222222222,\"#7201a8\"],[0.3333333333333333,\"#9c179e\"],[0.4444444444444444,\"#bd3786\"],[0.5555555555555556,\"#d8576b\"],[0.6666666666666666,\"#ed7953\"],[0.7777777777777778,\"#fb9f3a\"],[0.8888888888888888,\"#fdca26\"],[1.0,\"#f0f921\"]]}],\"heatmap\":[{\"type\":\"heatmap\",\"colorbar\":{\"outlinewidth\":0,\"ticks\":\"\"},\"colorscale\":[[0.0,\"#0d0887\"],[0.1111111111111111,\"#46039f\"],[0.2222222222222222,\"#7201a8\"],[0.3333333333333333,\"#9c179e\"],[0.4444444444444444,\"#bd3786\"],[0.5555555555555556,\"#d8576b\"],[0.6666666666666666,\"#ed7953\"],[0.7777777777777778,\"#fb9f3a\"],[0.8888888888888888,\"#fdca26\"],[1.0,\"#f0f921\"]]}],\"heatmapgl\":[{\"type\":\"heatmapgl\",\"colorbar\":{\"outlinewidth\":0,\"ticks\":\"\"},\"colorscale\":[[0.0,\"#0d0887\"],[0.1111111111111111,\"#46039f\"],[0.2222222222222222,\"#7201a8\"],[0.3333333333333333,\"#9c179e\"],[0.4444444444444444,\"#bd3786\"],[0.5555555555555556,\"#d8576b\"],[0.6666666666666666,\"#ed7953\"],[0.7777777777777778,\"#fb9f3a\"],[0.8888888888888888,\"#fdca26\"],[1.0,\"#f0f921\"]]}],\"contourcarpet\":[{\"type\":\"contourcarpet\",\"colorbar\":{\"outlinewidth\":0,\"ticks\":\"\"}}],\"contour\":[{\"type\":\"contour\",\"colorbar\":{\"outlinewidth\":0,\"ticks\":\"\"},\"colorscale\":[[0.0,\"#0d0887\"],[0.1111111111111111,\"#46039f\"],[0.2222222222222222,\"#7201a8\"],[0.3333333333333333,\"#9c179e\"],[0.4444444444444444,\"#bd3786\"],[0.5555555555555556,\"#d8576b\"],[0.6666666666666666,\"#ed7953\"],[0.7777777777777778,\"#fb9f3a\"],[0.8888888888888888,\"#fdca26\"],[1.0,\"#f0f921\"]]}],\"surface\":[{\"type\":\"surface\",\"colorbar\":{\"outlinewidth\":0,\"ticks\":\"\"},\"colorscale\":[[0.0,\"#0d0887\"],[0.1111111111111111,\"#46039f\"],[0.2222222222222222,\"#7201a8\"],[0.3333333333333333,\"#9c179e\"],[0.4444444444444444,\"#bd3786\"],[0.5555555555555556,\"#d8576b\"],[0.6666666666666666,\"#ed7953\"],[0.7777777777777778,\"#fb9f3a\"],[0.8888888888888888,\"#fdca26\"],[1.0,\"#f0f921\"]]}],\"mesh3d\":[{\"type\":\"mesh3d\",\"colorbar\":{\"outlinewidth\":0,\"ticks\":\"\"}}],\"scatter\":[{\"fillpattern\":{\"fillmode\":\"overlay\",\"size\":10,\"solidity\":0.2},\"type\":\"scatter\"}],\"parcoords\":[{\"type\":\"parcoords\",\"line\":{\"colorbar\":{\"outlinewidth\":0,\"ticks\":\"\"}}}],\"scatterpolargl\":[{\"type\":\"scatterpolargl\",\"marker\":{\"colorbar\":{\"outlinewidth\":0,\"ticks\":\"\"}}}],\"bar\":[{\"error_x\":{\"color\":\"#2a3f5f\"},\"error_y\":{\"color\":\"#2a3f5f\"},\"marker\":{\"line\":{\"color\":\"#E5ECF6\",\"width\":0.5},\"pattern\":{\"fillmode\":\"overlay\",\"size\":10,\"solidity\":0.2}},\"type\":\"bar\"}],\"scattergeo\":[{\"type\":\"scattergeo\",\"marker\":{\"colorbar\":{\"outlinewidth\":0,\"ticks\":\"\"}}}],\"scatterpolar\":[{\"type\":\"scatterpolar\",\"marker\":{\"colorbar\":{\"outlinewidth\":0,\"ticks\":\"\"}}}],\"histogram\":[{\"marker\":{\"pattern\":{\"fillmode\":\"overlay\",\"size\":10,\"solidity\":0.2}},\"type\":\"histogram\"}],\"scattergl\":[{\"type\":\"scattergl\",\"marker\":{\"colorbar\":{\"outlinewidth\":0,\"ticks\":\"\"}}}],\"scatter3d\":[{\"type\":\"scatter3d\",\"line\":{\"colorbar\":{\"outlinewidth\":0,\"ticks\":\"\"}},\"marker\":{\"colorbar\":{\"outlinewidth\":0,\"ticks\":\"\"}}}],\"scattermapbox\":[{\"type\":\"scattermapbox\",\"marker\":{\"colorbar\":{\"outlinewidth\":0,\"ticks\":\"\"}}}],\"scatterternary\":[{\"type\":\"scatterternary\",\"marker\":{\"colorbar\":{\"outlinewidth\":0,\"ticks\":\"\"}}}],\"scattercarpet\":[{\"type\":\"scattercarpet\",\"marker\":{\"colorbar\":{\"outlinewidth\":0,\"ticks\":\"\"}}}],\"carpet\":[{\"aaxis\":{\"endlinecolor\":\"#2a3f5f\",\"gridcolor\":\"white\",\"linecolor\":\"white\",\"minorgridcolor\":\"white\",\"startlinecolor\":\"#2a3f5f\"},\"baxis\":{\"endlinecolor\":\"#2a3f5f\",\"gridcolor\":\"white\",\"linecolor\":\"white\",\"minorgridcolor\":\"white\",\"startlinecolor\":\"#2a3f5f\"},\"type\":\"carpet\"}],\"table\":[{\"cells\":{\"fill\":{\"color\":\"#EBF0F8\"},\"line\":{\"color\":\"white\"}},\"header\":{\"fill\":{\"color\":\"#C8D4E3\"},\"line\":{\"color\":\"white\"}},\"type\":\"table\"}],\"barpolar\":[{\"marker\":{\"line\":{\"color\":\"#E5ECF6\",\"width\":0.5},\"pattern\":{\"fillmode\":\"overlay\",\"size\":10,\"solidity\":0.2}},\"type\":\"barpolar\"}],\"pie\":[{\"automargin\":true,\"type\":\"pie\"}]},\"layout\":{\"autotypenumbers\":\"strict\",\"colorway\":[\"#636efa\",\"#EF553B\",\"#00cc96\",\"#ab63fa\",\"#FFA15A\",\"#19d3f3\",\"#FF6692\",\"#B6E880\",\"#FF97FF\",\"#FECB52\"],\"font\":{\"color\":\"#2a3f5f\"},\"hovermode\":\"closest\",\"hoverlabel\":{\"align\":\"left\"},\"paper_bgcolor\":\"white\",\"plot_bgcolor\":\"#E5ECF6\",\"polar\":{\"bgcolor\":\"#E5ECF6\",\"angularaxis\":{\"gridcolor\":\"white\",\"linecolor\":\"white\",\"ticks\":\"\"},\"radialaxis\":{\"gridcolor\":\"white\",\"linecolor\":\"white\",\"ticks\":\"\"}},\"ternary\":{\"bgcolor\":\"#E5ECF6\",\"aaxis\":{\"gridcolor\":\"white\",\"linecolor\":\"white\",\"ticks\":\"\"},\"baxis\":{\"gridcolor\":\"white\",\"linecolor\":\"white\",\"ticks\":\"\"},\"caxis\":{\"gridcolor\":\"white\",\"linecolor\":\"white\",\"ticks\":\"\"}},\"coloraxis\":{\"colorbar\":{\"outlinewidth\":0,\"ticks\":\"\"}},\"colorscale\":{\"sequential\":[[0.0,\"#0d0887\"],[0.1111111111111111,\"#46039f\"],[0.2222222222222222,\"#7201a8\"],[0.3333333333333333,\"#9c179e\"],[0.4444444444444444,\"#bd3786\"],[0.5555555555555556,\"#d8576b\"],[0.6666666666666666,\"#ed7953\"],[0.7777777777777778,\"#fb9f3a\"],[0.8888888888888888,\"#fdca26\"],[1.0,\"#f0f921\"]],\"sequentialminus\":[[0.0,\"#0d0887\"],[0.1111111111111111,\"#46039f\"],[0.2222222222222222,\"#7201a8\"],[0.3333333333333333,\"#9c179e\"],[0.4444444444444444,\"#bd3786\"],[0.5555555555555556,\"#d8576b\"],[0.6666666666666666,\"#ed7953\"],[0.7777777777777778,\"#fb9f3a\"],[0.8888888888888888,\"#fdca26\"],[1.0,\"#f0f921\"]],\"diverging\":[[0,\"#8e0152\"],[0.1,\"#c51b7d\"],[0.2,\"#de77ae\"],[0.3,\"#f1b6da\"],[0.4,\"#fde0ef\"],[0.5,\"#f7f7f7\"],[0.6,\"#e6f5d0\"],[0.7,\"#b8e186\"],[0.8,\"#7fbc41\"],[0.9,\"#4d9221\"],[1,\"#276419\"]]},\"xaxis\":{\"gridcolor\":\"white\",\"linecolor\":\"white\",\"ticks\":\"\",\"title\":{\"standoff\":15},\"zerolinecolor\":\"white\",\"automargin\":true,\"zerolinewidth\":2},\"yaxis\":{\"gridcolor\":\"white\",\"linecolor\":\"white\",\"ticks\":\"\",\"title\":{\"standoff\":15},\"zerolinecolor\":\"white\",\"automargin\":true,\"zerolinewidth\":2},\"scene\":{\"xaxis\":{\"backgroundcolor\":\"#E5ECF6\",\"gridcolor\":\"white\",\"linecolor\":\"white\",\"showbackground\":true,\"ticks\":\"\",\"zerolinecolor\":\"white\",\"gridwidth\":2},\"yaxis\":{\"backgroundcolor\":\"#E5ECF6\",\"gridcolor\":\"white\",\"linecolor\":\"white\",\"showbackground\":true,\"ticks\":\"\",\"zerolinecolor\":\"white\",\"gridwidth\":2},\"zaxis\":{\"backgroundcolor\":\"#E5ECF6\",\"gridcolor\":\"white\",\"linecolor\":\"white\",\"showbackground\":true,\"ticks\":\"\",\"zerolinecolor\":\"white\",\"gridwidth\":2}},\"shapedefaults\":{\"line\":{\"color\":\"#2a3f5f\"}},\"annotationdefaults\":{\"arrowcolor\":\"#2a3f5f\",\"arrowhead\":0,\"arrowwidth\":1},\"geo\":{\"bgcolor\":\"white\",\"landcolor\":\"#E5ECF6\",\"subunitcolor\":\"white\",\"showland\":true,\"showlakes\":true,\"lakecolor\":\"white\"},\"title\":{\"x\":0.05},\"mapbox\":{\"style\":\"light\"}}},\"xaxis\":{\"anchor\":\"y\",\"domain\":[0.0,1.0],\"title\":{\"text\":\"Registerd_Users\"}},\"yaxis\":{\"anchor\":\"x\",\"domain\":[0.0,1.0],\"title\":{\"text\":\"States\"}},\"legend\":{\"tracegroupgap\":0},\"title\":{\"text\":\"Average Of Registerd Users\"},\"barmode\":\"relative\",\"height\":800,\"width\":1000},                        {\"responsive\": true}                    ).then(function(){\n",
       "                            \n",
       "var gd = document.getElementById('8a8633ed-4438-4cc4-988f-bf40fb2a929a');\n",
       "var x = new MutationObserver(function (mutations, observer) {{\n",
       "        var display = window.getComputedStyle(gd).display;\n",
       "        if (!display || display === 'none') {{\n",
       "            console.log([gd, 'removed!']);\n",
       "            Plotly.purge(gd);\n",
       "            observer.disconnect();\n",
       "        }}\n",
       "}});\n",
       "\n",
       "// Listen for the removal of the full notebook cells\n",
       "var notebookContainer = gd.closest('#notebook-container');\n",
       "if (notebookContainer) {{\n",
       "    x.observe(notebookContainer, {childList: true});\n",
       "}}\n",
       "\n",
       "// Listen for the clearing of the current output cell\n",
       "var outputEl = gd.closest('.output');\n",
       "if (outputEl) {{\n",
       "    x.observe(outputEl, {childList: true});\n",
       "}}\n",
       "\n",
       "                        })                };                });            </script>        </div>"
      ]
     },
     "metadata": {},
     "output_type": "display_data"
    }
   ],
   "source": [
    "top_chart_registered_users(\"Top_User\")"
   ]
  },
  {
   "cell_type": "markdown",
   "id": "018eb3c4-9bde-4e1b-a118-33c53f9c96c0",
   "metadata": {},
   "source": [
    "## Transaction year "
   ]
  },
  {
   "cell_type": "code",
   "execution_count": null,
   "id": "d5adbff8-d9f0-4141-a215-2fe78e8caabf",
   "metadata": {},
   "outputs": [],
   "source": [
    "# Transaction Based on year :\n",
    "\n",
    "def tran_amount_count_year(df, year):\n",
    "\n",
    "    tacy = df[df['Years'] == year]\n",
    "    tacy.reset_index(drop = True, inplace = True)\n",
    "    \n",
    "    tacyg = tacy.groupby('States')[[\"Transaction_Count\",\"Transaction_Amount\"]].sum()\n",
    "    tacyg.reset_index(inplace = True)\n",
    "    \n",
    "    fig_amount = px.bar(tacyg, x = \"States\", y = \"Transaction_Amount\", title = f\"{year} => Transaction Amount\",\n",
    "                        color_discrete_sequence= px.colors.sequential.Peach_r)\n",
    "    fig_amount.show()\n",
    "    \n",
    "    fig_count = px.bar(tacyg, x = \"States\", y = \"Transaction_Count\", title = f\"{year} => Transaction Count\",\n",
    "                        color_discrete_sequence= px.colors.sequential.algae_r)\n",
    "    fig_count.show()\n",
    "    \n",
    "    url = \"https://gist.githubusercontent.com/jbrobst/56c13bbbf9d97d187fea01ca62ea5112/raw/e388c4cae20aa53cb5090210a42ebb9b765c0a36/india_states.geojson\"\n",
    "    \n",
    "    response = requests.get(url)\n",
    "    data = json.loads(response.content)\n",
    "    states_name = []\n",
    "    for feature in data['features']:\n",
    "        states_name.append(feature['properties']['ST_NM'])\n",
    "    \n",
    "    states_name.sort()\n",
    "    \n",
    "    fig_india_1 = px.choropleth(tacyg, geojson = data, locations = \"States\", featureidkey= \"properties.ST_NM\",\n",
    "                                color = \"Transaction_Amount\", color_continuous_scale=\"tealrose\",\n",
    "                                range_color = (tacyg[\"Transaction_Amount\"].min(),tacyg[\"Transaction_Amount\"].max()),\n",
    "                                hover_name = \"States\", title = f\"{year} => Transaction Amount\",\n",
    "                                fitbounds = \"locations\", height = 500, width = 500)\n",
    "    fig_india_1.update_geos(visible = False)\n",
    "    fig_india_1.show()\n",
    "\n",
    "    fig_india_2 = px.choropleth(tacyg, geojson = data, locations = \"States\", featureidkey= \"properties.ST_NM\",\n",
    "                                color = \"Transaction_Count\", color_continuous_scale=\"tealrose\",\n",
    "                                range_color = (tacyg[\"Transaction_Count\"].min(),tacyg[\"Transaction_Count\"].max()),\n",
    "                                hover_name = \"States\", title = f\"{year} => Transaction Count\",\n",
    "                                fitbounds = \"locations\", height = 500, width = 500)\n",
    "    fig_india_2.update_geos(visible = False)\n",
    "    fig_india_2.show()\n",
    "    return tacy"
   ]
  },
  {
   "cell_type": "markdown",
   "id": "7fc05e60-ddb7-4b72-ac80-e07c43cb4407",
   "metadata": {},
   "source": [
    "# Transaction Quarter"
   ]
  },
  {
   "cell_type": "code",
   "execution_count": null,
   "id": "9c84c739-8373-4022-9f49-bfb8fa10d971",
   "metadata": {},
   "outputs": [],
   "source": [
    "# Transaction Based on Quarter :\n",
    "\n",
    "def tran_amount_count_quarter(df, quarter):\n",
    "\n",
    "    tacy = df[df['Quarters'] == quarter]\n",
    "    tacy.reset_index(drop = True, inplace = True)\n",
    "    \n",
    "    tacyg = tacy.groupby('States')[[\"Transaction_Count\",\"Transaction_Amount\"]].sum()\n",
    "    tacyg.reset_index(inplace = True)\n",
    "    \n",
    "    fig_amount = px.bar(tacyg, x = \"States\", y = \"Transaction_Amount\", title = f\"Year :{tacy['Years'].min()}  Quarter:{quarter} => Transaction Amount\",\n",
    "                        color_discrete_sequence= px.colors.sequential.Peach_r)\n",
    "    fig_amount.show()\n",
    "    \n",
    "    fig_count = px.bar(tacyg, x = \"States\", y = \"Transaction_Count\", title = f\"Year :{tacy['Years'].min()}  Quarter:{quarter} => Transaction Count\",\n",
    "                        color_discrete_sequence= px.colors.sequential.algae_r)\n",
    "    fig_count.show()\n",
    "    \n",
    "    url = \"https://gist.githubusercontent.com/jbrobst/56c13bbbf9d97d187fea01ca62ea5112/raw/e388c4cae20aa53cb5090210a42ebb9b765c0a36/india_states.geojson\"\n",
    "    \n",
    "    response = requests.get(url)\n",
    "    data = json.loads(response.content)\n",
    "    states_name = []\n",
    "    for feature in data['features']:\n",
    "        states_name.append(feature['properties']['ST_NM'])\n",
    "    \n",
    "    states_name.sort()\n",
    "    \n",
    "    fig_india_1 = px.choropleth(tacyg, geojson = data, locations = \"States\", featureidkey= \"properties.ST_NM\",\n",
    "                                color = \"Transaction_Amount\", color_continuous_scale=\"tealrose\",\n",
    "                                range_color = (tacyg[\"Transaction_Amount\"].min(),tacyg[\"Transaction_Amount\"].max()),\n",
    "                                hover_name = \"States\", title = f\"Year :{tacy['Years'].min()}  Quarter:{quarter} => Transaction Amount\",\n",
    "                                fitbounds = \"locations\", height = 500, width = 500)\n",
    "    fig_india_1.update_geos(visible = False)\n",
    "    fig_india_1.show()\n",
    "\n",
    "    fig_india_2 = px.choropleth(tacyg, geojson = data, locations = \"States\", featureidkey= \"properties.ST_NM\",\n",
    "                                color = \"Transaction_Count\", color_continuous_scale=\"tealrose\",\n",
    "                                range_color = (tacyg[\"Transaction_Count\"].min(),tacyg[\"Transaction_Count\"].max()),\n",
    "                                hover_name = \"States\", title = f\"Year :{tacy['Years'].min()}  Quarter:{quarter} => Transaction Count\",\n",
    "                                fitbounds = \"locations\", height = 500, width = 500)\n",
    "    fig_india_2.update_geos(visible = False)\n",
    "    fig_india_2.show()\n",
    "    return tacy\n",
    "    "
   ]
  },
  {
   "cell_type": "markdown",
   "id": "61cb4898-21fb-4983-8485-a137e9980036",
   "metadata": {},
   "source": [
    "# Aggregated Transaction type :"
   ]
  },
  {
   "cell_type": "code",
   "execution_count": null,
   "id": "e7e4e531-0aea-47ad-972d-1fbd6fe3d1e1",
   "metadata": {},
   "outputs": [],
   "source": [
    "# Transaction Type based on state  :\n",
    "\n",
    "def agg_tran_tran_type (df, state ):\n",
    "    tacy= df[df['States'] == state]\n",
    "    tacy.reset_index(drop = True, inplace = True)\n",
    "    \n",
    "    tacyg = tacy.groupby('Transaction_Type')[['Transaction_Count','Transaction_Amount']].sum()\n",
    "    tacyg.reset_index( inplace = True)\n",
    "    \n",
    "    fig_pie_1 = px.pie(data_frame = tacyg, width=1000,names = \"Transaction_Type\", values = \"Transaction_Amount\",\n",
    "                        title = f\"{state } => Transaction Amount\", hole=0.5)\n",
    "    fig_pie_1.show()\n",
    "    \n",
    "    fig_pie_2 = px.pie(data_frame = tacyg, width=1000,names = \"Transaction_Type\", values = \"Transaction_Count\",\n",
    "                        title = f\"{state} => Transaction Count\", hole=0.5)\n",
    "    fig_pie_2.show()"
   ]
  },
  {
   "cell_type": "markdown",
   "id": "c25c974e-b53c-49e6-ae9c-5d43dc7a5d3d",
   "metadata": {},
   "source": [
    "## Aggregated User :"
   ]
  },
  {
   "cell_type": "code",
   "execution_count": null,
   "id": "e531461d-f3be-4fee-a467-223c3770e864",
   "metadata": {},
   "outputs": [],
   "source": [
    "# Aggregated User Brands Transaction Count Based On Year:\n",
    "\n",
    "def agg_user_brand_count_y(df, year):\n",
    "    aguy = df[df['Years'] == year]\n",
    "    aguy.reset_index(drop = True, inplace = True)\n",
    "    \n",
    "    aguyg = pd.DataFrame(aguy.groupby('Brands')[\"Transaction_Count\"].sum())\n",
    "    aguyg.reset_index(inplace = True)\n",
    "    \n",
    "    fig_bar_1 = px.bar(aguyg, x = \"Brands\", y = \"Transaction_Count\", title = f\"{year} => Brands And Transaction Count\",\n",
    "                       width = 800, height = 500,color_discrete_sequence=px.colors.sequential.Sunset_r, hover_name = \"Brands\")\n",
    "    fig_bar_1.show()\n",
    "\n",
    "    return aguy"
   ]
  },
  {
   "cell_type": "code",
   "execution_count": null,
   "id": "00fd959d-6c4e-442e-804f-1c6a45f20f43",
   "metadata": {},
   "outputs": [],
   "source": [
    "# Aggregated User Brands Transaction Count Based On Year And Quarter :\n",
    "\n",
    "def agg_user_brand_count_quarter(df, quarter):\n",
    "    \n",
    "    aguyq = df[df['Quarters'] == quarter]\n",
    "    aguyq.reset_index(drop = True, inplace = True)\n",
    "    \n",
    "    aguyqg = pd.DataFrame(aguyq.groupby(\"Brands\")['Transaction_Count'].sum())\n",
    "    aguyqg.reset_index(inplace = True)\n",
    "    \n",
    "    fig_bar_1 = px.bar(aguyqg, x = \"Brands\", y = \"Transaction_Count\", title = f\"Year:{agg_user_y['Years'].min()}  Quarter:{quarter} => Brands And Transaction Count\",\n",
    "                           width = 800, height = 500,color_discrete_sequence=px.colors.sequential.Sunset_r, hover_name = \"Brands\")\n",
    "    fig_bar_1.show()\n",
    "\n",
    "    return aguyq\n"
   ]
  },
  {
   "cell_type": "code",
   "execution_count": null,
   "id": "f0f952ec-3091-4cac-882b-56c028a45fac",
   "metadata": {},
   "outputs": [],
   "source": [
    "# Aggregated User Brands And Percentage Based On State:\n",
    "\n",
    "def agg_user_brand_count_state(df, state):\n",
    "    auyqs = df[df['States']== state]    \n",
    "    auyqs.reset_index(drop = True, inplace = True) \n",
    "    \n",
    "    fig_line_1 = px.line(auyqs, x = \"Brands\", y = \"Transaction_Count\" ,title = f\"Year:{df['Years'].min()}  State:{state} => Brands, Transaction Count And Percentage\", \n",
    "                         width = 1000,height = 500, hover_data = ['Percentage'], markers = True)\n",
    "    fig_line_1.show()"
   ]
  },
  {
   "cell_type": "markdown",
   "id": "16b0b8dc-fed0-4086-b7c0-409c8f099a5e",
   "metadata": {},
   "source": [
    "## Map Insurance :"
   ]
  },
  {
   "cell_type": "code",
   "execution_count": null,
   "id": "6a5305e1-3978-4a86-a904-af2e23e11a4a",
   "metadata": {},
   "outputs": [],
   "source": [
    "# Map Insurance District Transaction Amount And Count based on state  :\n",
    "\n",
    "def map_insur_dist (df, state ):\n",
    "    tacy= df[df['States'] == state]\n",
    "    tacy.reset_index(drop = True, inplace = True)\n",
    "    \n",
    "    tacyg = tacy.groupby(\"Districts\")[['Transaction_Count','Transaction_Amount']].sum()\n",
    "    tacyg.reset_index( inplace = True)\n",
    "    \n",
    "    fig_bar_1 = px.bar(tacyg, x = \"Transaction_Amount\", y = \"Districts\", orientation= 'h', color_discrete_sequence=px.colors.sequential.Mint_r,\n",
    "                       title = f\"State : {state} => District And Transaction Amount\", height = 500)\n",
    "    fig_bar_1.show()\n",
    "\n",
    "    fig_bar_2 = px.bar(tacyg, x = \"Transaction_Count\", y = \"Districts\", orientation= 'h', color_discrete_sequence=px.colors.sequential.Mint_r,\n",
    "                       title = f\"State : {state} => District And Transaction Count\", height = 500)\n",
    "    fig_bar_2.show()"
   ]
  },
  {
   "cell_type": "markdown",
   "id": "11fdba38-9439-4e8a-a57d-8dd8f8a8e6f8",
   "metadata": {},
   "source": [
    "## Map User :"
   ]
  },
  {
   "cell_type": "code",
   "execution_count": null,
   "id": "825aa5f7-7348-4740-8253-314e198d9961",
   "metadata": {},
   "outputs": [],
   "source": [
    "# Map User Registered User And App Opens based on Year, Group By States: \n",
    "\n",
    "def map_user_year(df, year):\n",
    "    muy = df[df['Years'] == year]\n",
    "    muy.reset_index(drop = True, inplace = True)\n",
    "    \n",
    "    muyg = muy.groupby('States')[[\"Registered_Users\", \"App_Opens\"]].sum()\n",
    "    muyg.reset_index(inplace = True)\n",
    "    \n",
    "    fig_line_1 = px.line(muyg, x = \"States\", y = [\"Registered_Users\",\"App_Opens\" ],width = 1000,height = 800,markers = True,\n",
    "                         title = f\"Year:{year} => Registered Users And App Opens \")\n",
    "    fig_line_1.show()\n",
    "    return muy"
   ]
  },
  {
   "cell_type": "code",
   "execution_count": null,
   "id": "862f7151-cd5b-40da-bdd2-b352c92f66af",
   "metadata": {},
   "outputs": [],
   "source": [
    "# Map User Registered User And App Opens based on Quarter, Group By States: \n",
    "\n",
    "def map_user_quarter(df, quarter):\n",
    "    muyq = df[df['Quarters'] == quarter]\n",
    "    muyq.reset_index(drop = True, inplace = True)\n",
    "    \n",
    "    muyqg = muyq.groupby('States')[[\"Registered_Users\", \"App_Opens\"]].sum()\n",
    "    muyqg.reset_index(inplace = True)\n",
    "    \n",
    "    fig_line_1 = px.line(muyqg, x = \"States\", y = [\"Registered_Users\",\"App_Opens\" ],width = 1000,height = 800,markers = True,\n",
    "                         title = f\"Year:{df['Years'].min()}  Quarter:{quarter} => Registered Users And App Opens \",color_discrete_sequence=px.colors.sequential.Rainbow)\n",
    "    fig_line_1.show()\n",
    "    return muyq"
   ]
  },
  {
   "cell_type": "code",
   "execution_count": 35,
   "id": "2f1e60e2-a074-4481-9fdf-9be1074c1042",
   "metadata": {},
   "outputs": [],
   "source": [
    "# Map User Registered Users And App Opens Based On States And Districts :\n",
    "\n",
    "def map_user_state_district(df, state):\n",
    "    muyqs = df[df['States'] == state]\n",
    "    muyqs.reset_index(drop = True, inplace = True)\n",
    "    \n",
    "    fig_bar_1 = px.bar(muyqs, x = \"Registered_Users\", y= \"Districts\", orientation= 'h', title = 'Register Users',\n",
    "                       height = 600, width = 500,color_discrete_sequence= px.colors.sequential.Rainbow)\n",
    "    fig_bar_1.show()\n",
    "    \n",
    "    fig_bar_2 = px.bar(muyqs, x = \"App_Opens\", y= \"Districts\", orientation= 'h', title = 'App Opens',\n",
    "                       height = 600, width = 500, color_discrete_sequence= px.colors.sequential.Sunsetdark_r)\n",
    "    fig_bar_2.show()"
   ]
  },
  {
   "cell_type": "markdown",
   "id": "a12ea810-11be-4d13-bf50-e99f4fcd4b4f",
   "metadata": {},
   "source": [
    "## Top Insurance:"
   ]
  },
  {
   "cell_type": "code",
   "execution_count": 66,
   "id": "a09b0dff-afab-43ff-be54-a087536ba14f",
   "metadata": {},
   "outputs": [],
   "source": [
    "# Top Insurance State,Quarters And Pincodes Wise Transaction Amount And Count : \n",
    "\n",
    "def top_insur_quarter_state(df, state):\n",
    "    tiy = df[df['States'] == state]\n",
    "    tiy.reset_index(drop = True, inplace = True)\n",
    "    \n",
    "    fig_bar_1 = px.bar(tiy, x = \"Quarters\", y= \"Transaction_Amount\",  title = f\"Year:{df['Years'].min()}  Transaction Amount\", hover_data = [\"Pincodes\"],\n",
    "                       height = 600, color_discrete_sequence= px.colors.sequential.Peach_r)\n",
    "    fig_bar_1.show()\n",
    "    \n",
    "    fig_bar_2 = px.bar(tiy, x = \"Quarters\", y= \"Transaction_Count\", title = f\"Year:{df['Years'].min()}  Transaction Count\",hover_data = [\"Pincodes\"],\n",
    "                       height = 600, color_discrete_sequence= px.colors.sequential.Greens_r)\n",
    "    fig_bar_2.show()"
   ]
  },
  {
   "cell_type": "markdown",
   "id": "fc1cdd90-af61-42b5-a9ff-f8a6cb12d2ea",
   "metadata": {},
   "source": [
    "## Top User :"
   ]
  },
  {
   "cell_type": "code",
   "execution_count": 88,
   "id": "dbff374c-ac15-4074-a8d7-7526a810edaf",
   "metadata": {},
   "outputs": [],
   "source": [
    "def top_user_year(df, year):\n",
    "    tuy = Top_User[Top_User['Years'] == 2020]\n",
    "    tuy.reset_index(drop = True, inplace = True)\n",
    "    \n",
    "    tuyg =pd.DataFrame( tuy.groupby(['States','Quarters'])[\"Registered_Users\"].sum())\n",
    "    tuyg.reset_index(inplace = True)\n",
    "    \n",
    "    fig_bar_1 = px.bar(tuyg, x = \"States\", y = \"Registered_Users\", color=\"Quarters\",color_discrete_sequence=px.colors.sequential.Burgyl,\n",
    "                       width = 1000, height = 800, title = f\"Year:{df['Years'].min()}  => Registerd Users \", hover_name ='States')\n",
    "    fig_bar_1.show()\n",
    "    return tuy"
   ]
  },
  {
   "cell_type": "code",
   "execution_count": 101,
   "id": "00b51021-6162-41bd-b220-88c2b354ee4c",
   "metadata": {},
   "outputs": [],
   "source": [
    "# Top User  Registerd Users , Pincodes And Quarters Based On State:\n",
    "\n",
    "def top_user_state(df, state):\n",
    "    tuys = df[df['States'] == state]\n",
    "    tuys.reset_index(drop = True, inplace = True)\n",
    "    \n",
    "    fig_bar_1 = px.bar(tuys, x = \"Quarters\", y = \"Registered_Users\", title = f\"State:{state} => Registerd Users , Pincodes And Quarters\",\n",
    "                       width = 1000, height = 800, color=\"Registered_Users\",hover_data = [\"Pincodes\"],\n",
    "                       color_continuous_scale= px.colors.sequential.Agsunset_r)\n",
    "    fig_bar_1.show()"
   ]
  },
  {
   "cell_type": "markdown",
   "id": "3afa6149-1a41-44e9-9c73-e061dee5a378",
   "metadata": {},
   "source": [
    "### Aggregated Insurance "
   ]
  },
  {
   "cell_type": "code",
   "execution_count": null,
   "id": "0aeadf80-cd26-4802-9952-f2f18abdcf59",
   "metadata": {},
   "outputs": [],
   "source": [
    "# Aggregated Insurance Year:\n",
    "\n",
    "tac_Y = tran_amount_count_year(Agg_Insur,2022)"
   ]
  },
  {
   "cell_type": "code",
   "execution_count": null,
   "id": "99bf4362-e084-4d98-8d68-b9f0f43b863a",
   "metadata": {},
   "outputs": [],
   "source": [
    "tran_amount_count_quarter(tac_Y,4)"
   ]
  },
  {
   "cell_type": "markdown",
   "id": "42f6e5bd-6f05-454e-8adb-5648a2925ebe",
   "metadata": {},
   "source": [
    "## Aggregated Transaction"
   ]
  },
  {
   "cell_type": "code",
   "execution_count": null,
   "id": "dcd588be-1db6-4d70-a545-746ab4b4f724",
   "metadata": {},
   "outputs": [],
   "source": [
    "# Aggregated Transaction based on year:\n",
    "\n",
    "agg_tran_tac_Y = tran_amount_count_year(Agg_Tran,2022)"
   ]
  },
  {
   "cell_type": "code",
   "execution_count": null,
   "id": "59540d77-a3b6-4525-ae6e-8f1385d89190",
   "metadata": {},
   "outputs": [],
   "source": [
    "agg_tran_tran_type(agg_tran_tac_Y, \"Bihar\")"
   ]
  },
  {
   "cell_type": "code",
   "execution_count": null,
   "id": "1fce58df-71fb-48ad-9afb-0739a2c17563",
   "metadata": {},
   "outputs": [],
   "source": [
    "# Aggregated Transaction based on quarter :\n",
    "\n",
    "agg_tran_tac_quarter = tran_amount_count_quarter(agg_tran_tac_Y,4)"
   ]
  },
  {
   "cell_type": "code",
   "execution_count": null,
   "id": "3955a154-c25b-49cc-a1e3-df274b799d3e",
   "metadata": {},
   "outputs": [],
   "source": [
    "agg_tran_tran_type(agg_tran_tac_quarter, \"Bihar\")"
   ]
  },
  {
   "cell_type": "markdown",
   "id": "67c1b259-d08c-482b-9b27-5d85182d2b3a",
   "metadata": {},
   "source": [
    "## Aggregated User"
   ]
  },
  {
   "cell_type": "code",
   "execution_count": null,
   "id": "233e6b88-b1c6-4dbc-915d-295a1055090b",
   "metadata": {},
   "outputs": [],
   "source": [
    "# Aggregated User Brands Transaction Count Based On year :\n",
    "agg_user_y = agg_user_brand_count_y(Agg_User, 2020)"
   ]
  },
  {
   "cell_type": "code",
   "execution_count": null,
   "id": "c1158a54-fd53-4f09-9ae2-e07829d8b921",
   "metadata": {},
   "outputs": [],
   "source": [
    "# State wise brand and Percentage :\n",
    "agg_user_brand_count_state(agg_user_yq, \"Bihar\")"
   ]
  },
  {
   "cell_type": "code",
   "execution_count": null,
   "id": "2abb2085-8dce-462c-b111-de03e5e57261",
   "metadata": {},
   "outputs": [],
   "source": [
    "# Quarter Wise :\n",
    "agg_user_yq = agg_user_brand_count_quarter(agg_user_y, 3)"
   ]
  },
  {
   "cell_type": "markdown",
   "id": "e6af52a8-bacf-4739-8094-79b7451dad95",
   "metadata": {},
   "source": [
    "## Map Insurance"
   ]
  },
  {
   "cell_type": "code",
   "execution_count": null,
   "id": "8c632904-5c5d-419e-9ab6-cbf00bcc1bdf",
   "metadata": {},
   "outputs": [],
   "source": [
    "map_insur_tac_Y = tran_amount_count_year(Map_Insur,2022)\n",
    "map_insur_tac_Y"
   ]
  },
  {
   "cell_type": "code",
   "execution_count": null,
   "id": "d84c530d-d469-47df-8453-406804329710",
   "metadata": {
    "scrolled": true
   },
   "outputs": [],
   "source": [
    "map_insur_dist(map_insur_tac_Y, \"Tamil Nadu\")"
   ]
  },
  {
   "cell_type": "code",
   "execution_count": null,
   "id": "6e39bbd0-2362-4a5e-a65f-900920b720fb",
   "metadata": {},
   "outputs": [],
   "source": [
    "map_insur_tac_quarter = tran_amount_count_quarter(map_insur_tac_Y,4)"
   ]
  },
  {
   "cell_type": "code",
   "execution_count": null,
   "id": "2bb721db-dc43-46a2-891e-45d4ae5aa4e4",
   "metadata": {},
   "outputs": [],
   "source": [
    "map_insur_dist(map_insur_tac_quarter, \"Bihar\")"
   ]
  },
  {
   "cell_type": "markdown",
   "id": "c6cb479f-549b-4769-b622-554873816d33",
   "metadata": {},
   "source": [
    "## Map Transaction :"
   ]
  },
  {
   "cell_type": "code",
   "execution_count": null,
   "id": "922a3654-4233-4240-957f-1af2513279a1",
   "metadata": {},
   "outputs": [],
   "source": [
    "map_tran_tac_Y = tran_amount_count_year(Map_Tran,2022)\n",
    "map_tran_tac_Y"
   ]
  },
  {
   "cell_type": "code",
   "execution_count": null,
   "id": "2bfb711d-bf11-4e02-a1a3-14a5e13649ce",
   "metadata": {},
   "outputs": [],
   "source": [
    "map_insur_dist(map_tran_tac_Y, \"Tamil Nadu\")"
   ]
  },
  {
   "cell_type": "code",
   "execution_count": null,
   "id": "53bf29f4-a8b7-4535-9020-075b58547f90",
   "metadata": {},
   "outputs": [],
   "source": [
    "map_tran_tac_quarter = tran_amount_count_quarter(map_tran_tac_Y,4)"
   ]
  },
  {
   "cell_type": "code",
   "execution_count": null,
   "id": "8978a833-63d6-45c1-b4f8-faf3427516ec",
   "metadata": {},
   "outputs": [],
   "source": [
    "map_insur_dist(map_tran_tac_quarter, \"Bihar\")"
   ]
  },
  {
   "cell_type": "markdown",
   "id": "e9df5abb-f5ef-4506-a162-5c0be54a48a5",
   "metadata": {},
   "source": [
    "## Map User"
   ]
  },
  {
   "cell_type": "code",
   "execution_count": null,
   "id": "44b7b322-b5ac-40f8-84ae-507df77b103a",
   "metadata": {},
   "outputs": [],
   "source": [
    "map_user_y = map_user_year(Map_User, 2020)"
   ]
  },
  {
   "cell_type": "code",
   "execution_count": null,
   "id": "21c0045f-773f-45fa-a652-437760a18134",
   "metadata": {},
   "outputs": [],
   "source": [
    "map_user_q = map_user_quarter(map_user_y, 4)"
   ]
  },
  {
   "cell_type": "code",
   "execution_count": null,
   "id": "471f10cc-c8fd-4b34-9eb5-01a65692fd39",
   "metadata": {},
   "outputs": [],
   "source": [
    "map_user_state_district(map_user_q, \"West Bengal\")"
   ]
  },
  {
   "cell_type": "markdown",
   "id": "6a6a6179-1a15-4a2d-9aba-81b409a3fb69",
   "metadata": {},
   "source": [
    "## Top Insurance:"
   ]
  },
  {
   "cell_type": "code",
   "execution_count": null,
   "id": "4dde728d-daa2-480f-8e30-7119e7374e1a",
   "metadata": {},
   "outputs": [],
   "source": [
    "top_insur_year = tran_amount_count_year(Top_Insur, 2022)"
   ]
  },
  {
   "cell_type": "code",
   "execution_count": null,
   "id": "0c366db6-4d88-45b6-aa52-5a4df43ae84a",
   "metadata": {
    "scrolled": true
   },
   "outputs": [],
   "source": [
    " top_insur_quarter_state(top_insur_year, \"Tamil Nadu\")"
   ]
  },
  {
   "cell_type": "code",
   "execution_count": null,
   "id": "0a0bef28-f31e-40f2-98a6-de033d82fc66",
   "metadata": {},
   "outputs": [],
   "source": [
    "top_insur_quarter = tran_amount_count_quarter(top_insur_year, 4)"
   ]
  },
  {
   "cell_type": "markdown",
   "id": "febf68a9-a6f3-4736-bb51-31b49e550366",
   "metadata": {},
   "source": [
    "## Top Transaction:"
   ]
  },
  {
   "cell_type": "code",
   "execution_count": null,
   "id": "ccaceb62-9e1b-43f7-98b8-db698dc1ff6e",
   "metadata": {},
   "outputs": [],
   "source": [
    "top_tran_year = tran_amount_count_year(Top_Insur, 2022)"
   ]
  },
  {
   "cell_type": "code",
   "execution_count": null,
   "id": "e87678f8-59d3-4ad6-99c0-a14919442efb",
   "metadata": {},
   "outputs": [],
   "source": [
    " top_insur_quarter_state(top_tran_year, \"Tamil Nadu\")"
   ]
  },
  {
   "cell_type": "code",
   "execution_count": null,
   "id": "36ede9d8-ac08-490a-950f-42859e6515a1",
   "metadata": {},
   "outputs": [],
   "source": [
    "top_tran_quarter = tran_amount_count_quarter(top_tran_year, 4)"
   ]
  },
  {
   "cell_type": "markdown",
   "id": "f7fefcf7-4c95-473d-a288-889dfb2ee5e4",
   "metadata": {},
   "source": [
    "## Top User:"
   ]
  },
  {
   "cell_type": "code",
   "execution_count": null,
   "id": "49d0d0cc-51d3-49b0-8173-81d01eaea030",
   "metadata": {},
   "outputs": [],
   "source": [
    "top_user_y = top_user_year(Top_User, 2022)"
   ]
  },
  {
   "cell_type": "code",
   "execution_count": null,
   "id": "367a3596-1d93-41cc-aeb2-537965646337",
   "metadata": {},
   "outputs": [],
   "source": [
    "top_user_state(top_user_y, \"Bihar\")"
   ]
  },
  {
   "cell_type": "code",
   "execution_count": null,
   "id": "ab7aa51b-992f-428c-9e09-26a20350cd8e",
   "metadata": {},
   "outputs": [],
   "source": []
  }
 ],
 "metadata": {
  "kernelspec": {
   "display_name": "base",
   "language": "python",
   "name": "base"
  },
  "language_info": {
   "codemirror_mode": {
    "name": "ipython",
    "version": 3
   },
   "file_extension": ".py",
   "mimetype": "text/x-python",
   "name": "python",
   "nbconvert_exporter": "python",
   "pygments_lexer": "ipython3",
   "version": "3.11.7"
  }
 },
 "nbformat": 4,
 "nbformat_minor": 5
}
